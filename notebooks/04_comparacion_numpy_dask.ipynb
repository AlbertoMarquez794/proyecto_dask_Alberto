{
 "cells": [
  {
   "cell_type": "markdown",
   "metadata": {},
   "source": [
    "# Comparación Numpy vs. Dask"
   ]
  },
  {
   "cell_type": "code",
   "execution_count": null,
   "metadata": {},
   "outputs": [],
   "source": [
    "import dask.dataframe as dd\n",
    "from dask.distributed import Client\n",
    "import dask.array as da\n",
    "import time \n",
    "import numpy as np\n",
    "\n"
   ]
  },
  {
   "cell_type": "code",
   "execution_count": null,
   "metadata": {},
   "outputs": [],
   "source": [
    "#Creación de datos\n",
    "dNP = np.random.randint(0, 100, size=(50000, 50000))\n",
    "dNP\n"
   ]
  },
  {
   "cell_type": "code",
   "execution_count": null,
   "metadata": {},
   "outputs": [],
   "source": [
    "dD =da.random.randint(0, 100, size=(50000, 50000),chunks=(1000, 1000))"
   ]
  },
  {
   "cell_type": "markdown",
   "metadata": {},
   "source": [
    "Operaciones Matemáticas"
   ]
  },
  {
   "cell_type": "code",
   "execution_count": null,
   "metadata": {},
   "outputs": [],
   "source": [
    "#Sacar media de las filas\n",
    "#NP\n",
    "startTimeNP = time.time()\n",
    "media_filasN = np.mean(dNP, axis=1)\n",
    "print(f\"Medias de las filas: {media_filas}\")\n",
    "print(time.time() -startTimeNP)\n",
    "#Dask\n",
    "startTimeD = time.time()\n",
    "media_filasD = dD.mean(axis=1)\n",
    "print(f\"Medias de las filas: {media_filas}\")\n",
    "print(time.time() -startTimeD)\n",
    "\n"
   ]
  },
  {
   "cell_type": "code",
   "execution_count": null,
   "metadata": {
    "editable": true,
    "slideshow": {
     "slide_type": ""
    },
    "tags": []
   },
   "outputs": [],
   "source": [
    "media_filasD"
   ]
  },
  {
   "cell_type": "code",
   "execution_count": 6,
   "metadata": {},
   "outputs": [
    {
     "name": "stdout",
     "output_type": "stream",
     "text": [
      "Máximo es: 99\n",
      "22.37541389465332\n",
      "Máximo es: dask.array<max-aggregate, shape=(), dtype=int64, chunksize=(), chunktype=numpy.ndarray>\n",
      "0.03896594047546387\n"
     ]
    }
   ],
   "source": [
    "#Máximos\n",
    "#NP\n",
    "startTimeNP = time.time()\n",
    "maxN = np.max(dNP)\n",
    "print(f\"Máximo es: {maxN}\")\n",
    "print(time.time() -startTimeNP)\n",
    "#Dask\n",
    "startTimeD = time.time()\n",
    "maxD = dD.max()\n",
    "print(f\"Máximo es: {maxD}\")\n",
    "print(time.time() -startTimeD)"
   ]
  },
  {
   "cell_type": "code",
   "execution_count": 21,
   "metadata": {},
   "outputs": [
    {
     "name": "stdout",
     "output_type": "stream",
     "text": [
      "La suma es: [ 77 113 100 ...  13  87  75]\n",
      "8.14670705795288\n",
      "La suma es: dask.array<sum-aggregate, shape=(50000,), dtype=int64, chunksize=(4096,), chunktype=numpy.ndarray>\n",
      "0.03273177146911621\n"
     ]
    }
   ],
   "source": [
    "#Suma de dos columnas\n",
    "#NP\n",
    "startTimeNP = time.time()\n",
    "suma_colN = np.sum(dNP[:, [0, 1]], axis=1)\n",
    "print(f\"La suma es: {suma_colN}\")\n",
    "print(time.time() -startTimeNP)\n",
    "#Dask\n",
    "startTimeD = time.time()\n",
    "suma_colD =  dD[:, [0, 1]].sum(axis=1)\n",
    "print(f\"La suma es: {suma_colD}\")\n",
    "print(time.time() -startTimeD)\n",
    "\n"
   ]
  },
  {
   "cell_type": "code",
   "execution_count": 24,
   "metadata": {},
   "outputs": [
    {
     "data": {
      "application/vnd.jupyter.widget-view+json": {
       "model_id": "b238edb440da4d6ba1f05a2d0f2dba03",
       "version_major": 2,
       "version_minor": 0
      },
      "text/plain": [
       "CytoscapeWidget(cytoscape_layout={'name': 'dagre', 'rankDir': 'BT', 'nodeSep': 10, 'edgeSep': 10, 'spacingFact…"
      ]
     },
     "execution_count": 24,
     "metadata": {},
     "output_type": "execute_result"
    }
   ],
   "source": [
    "suma_colD.visualize(engine=\"cytoscape\")"
   ]
  },
  {
   "cell_type": "markdown",
   "metadata": {},
   "source": [
    "Manipulación de los arreglos"
   ]
  },
  {
   "cell_type": "code",
   "execution_count": 8,
   "metadata": {},
   "outputs": [
    {
     "name": "stdout",
     "output_type": "stream",
     "text": [
      "0.00037789344787597656\n",
      "0.007956981658935547\n"
     ]
    }
   ],
   "source": [
    "#Slicing: Obtener las primeras dos filas y columnas de cada array\n",
    "#NP\n",
    "startTimeNP = time.time()\n",
    "subNP = dNP[slice(0, 10000), slice(0, 10000)]\n",
    "subNP\n",
    "print(time.time() -startTimeNP)\n",
    "#Dask\n",
    "startTimeD = time.time()\n",
    "subD =  dD[slice(0, 10000), slice(0, 10000)]\n",
    "print(time.time() -startTimeD)\n",
    "\n",
    "#En este caso, si usamos un subconjunto pequeño es más rápido np array"
   ]
  },
  {
   "cell_type": "code",
   "execution_count": 9,
   "metadata": {},
   "outputs": [
    {
     "name": "stdout",
     "output_type": "stream",
     "text": [
      "5.1975250244140625e-05\n",
      "0.0002772808074951172\n"
     ]
    }
   ],
   "source": [
    "#Slicing: Obtener las primeras dos filas y columnas de cada array\n",
    "#NP\n",
    "startTimeNP = time.time()\n",
    "subNP = dNP[slice(0, 10000), slice(0, 10000)]\n",
    "subNP\n",
    "print(time.time() -startTimeNP)\n",
    "#Dask\n",
    "startTimeD = time.time()\n",
    "subD =  dD[slice(0, 10000), slice(0, 10000)]\n",
    "print(time.time() -startTimeD)"
   ]
  },
  {
   "cell_type": "code",
   "execution_count": 12,
   "metadata": {},
   "outputs": [
    {
     "name": "stdout",
     "output_type": "stream",
     "text": [
      "9.512901306152344e-05\n",
      "0.0011589527130126953\n"
     ]
    }
   ],
   "source": [
    "#Trasponer filas y columnas\n",
    "#NP\n",
    "startTimeNP = time.time()\n",
    "traspN = np.transpose(dNP)\n",
    "print(time.time() -startTimeNP)\n",
    "#Dask\n",
    "startTimeD = time.time()\n",
    "traspN = da.transpose(dD)\n",
    "print(time.time() -startTimeD)\n"
   ]
  },
  {
   "cell_type": "code",
   "execution_count": 25,
   "metadata": {},
   "outputs": [],
   "source": [
    "dNP2 = np.random.randint(0, 100, size=(5, 50000))\n",
    "dD2 = da.random.randint(0, 100, size=(5, 50000),chunks=(1000, 1000))\n"
   ]
  },
  {
   "cell_type": "code",
   "execution_count": 26,
   "metadata": {},
   "outputs": [
    {
     "ename": "",
     "evalue": "",
     "output_type": "error",
     "traceback": [
      "\u001b[1;31mThe Kernel crashed while executing code in the current cell or a previous cell. \n",
      "\u001b[1;31mPlease review the code in the cell(s) to identify a possible cause of the failure. \n",
      "\u001b[1;31mClick <a href='https://aka.ms/vscodeJupyterKernelCrash'>here</a> for more info. \n",
      "\u001b[1;31mView Jupyter <a href='command:jupyter.viewOutput'>log</a> for further details."
     ]
    }
   ],
   "source": [
    "#NP\n",
    "startTimeNP = time.time()\n",
    "concat_result = np.concatenate((dNP, dNP2), axis=1)\n",
    "print(time.time() -startTimeNP)\n",
    "#Dask\n",
    "startTimeD = time.time()\n",
    "da.stack([dD, dD2], axis=1)\n",
    "print(time.time() -startTimeD)"
   ]
  }
 ],
 "metadata": {
  "kernelspec": {
   "display_name": "Python 3 (ipykernel)",
   "language": "python",
   "name": "python3"
  },
  "language_info": {
   "codemirror_mode": {
    "name": "ipython",
    "version": 3
   },
   "file_extension": ".py",
   "mimetype": "text/x-python",
   "name": "python",
   "nbconvert_exporter": "python",
   "pygments_lexer": "ipython3",
   "version": "3.9.20"
  }
 },
 "nbformat": 4,
 "nbformat_minor": 4
}
