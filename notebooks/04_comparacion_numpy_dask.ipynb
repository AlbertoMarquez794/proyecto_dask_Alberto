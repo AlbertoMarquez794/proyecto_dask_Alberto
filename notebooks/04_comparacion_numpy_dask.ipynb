{
 "cells": [
  {
   "cell_type": "markdown",
   "metadata": {},
   "source": [
    "# Comparación Numpy vs. Dask"
   ]
  },
  {
   "cell_type": "code",
   "execution_count": 1,
   "metadata": {},
   "outputs": [],
   "source": [
    "import dask.dataframe as dd\n",
    "from dask.distributed import Client\n",
    "import dask.array as da\n",
    "import time \n",
    "import numpy as np\n",
    "\n"
   ]
  },
  {
   "cell_type": "code",
   "execution_count": 2,
   "metadata": {},
   "outputs": [
    {
     "data": {
      "text/plain": [
       "array([[31, 93, 22, ..., 87, 12, 77],\n",
       "       [27, 22, 75, ..., 72, 39, 46],\n",
       "       [11, 58,  7, ..., 55, 22,  0],\n",
       "       ...,\n",
       "       [20, 80, 78, ..., 65, 77, 39],\n",
       "       [38, 10, 34, ...,  2, 82, 56],\n",
       "       [63, 87, 97, ...,  9, 60,  1]])"
      ]
     },
     "execution_count": 2,
     "metadata": {},
     "output_type": "execute_result"
    }
   ],
   "source": [
    "#Creación de datos\n",
    "dNP = np.random.randint(0, 100, size=(50000, 50000))\n",
    "dNP\n"
   ]
  },
  {
   "cell_type": "code",
   "execution_count": 3,
   "metadata": {},
   "outputs": [],
   "source": [
    "dD =da.random.randint(0, 100, size=(50000, 50000),chunks=(1000, 1000))"
   ]
  },
  {
   "cell_type": "markdown",
   "metadata": {},
   "source": [
    "Operaciones Matemáticas"
   ]
  },
  {
   "cell_type": "code",
   "execution_count": 4,
   "metadata": {},
   "outputs": [
    {
     "name": "stdout",
     "output_type": "stream",
     "text": [
      "Medias de las filas: [49.47088 49.55498 49.72404 ... 49.44952 49.40524 49.43996]\n",
      "23.49649214744568\n",
      "Medias de las filas: dask.array<mean_agg-aggregate, shape=(50000,), dtype=float64, chunksize=(1000,), chunktype=numpy.ndarray>\n",
      "0.04595518112182617\n"
     ]
    }
   ],
   "source": [
    "#Sacar media de las filas\n",
    "#NP\n",
    "startTimeNP = time.time()\n",
    "media_filasN = np.mean(dNP, axis=1)\n",
    "print(f\"Medias de las filas: {media_filasN}\")\n",
    "print(time.time() -startTimeNP)\n",
    "#Dask\n",
    "startTimeD = time.time()\n",
    "media_filasD = dD.mean(axis=1)\n",
    "print(f\"Medias de las filas: {media_filasD}\")\n",
    "print(time.time() -startTimeD)\n",
    "\n"
   ]
  },
  {
   "cell_type": "code",
   "execution_count": 5,
   "metadata": {},
   "outputs": [
    {
     "data": {
      "text/html": [
       "<table>\n",
       "    <tr>\n",
       "        <td>\n",
       "            <table style=\"border-collapse: collapse;\">\n",
       "                <thead>\n",
       "                    <tr>\n",
       "                        <td> </td>\n",
       "                        <th> Array </th>\n",
       "                        <th> Chunk </th>\n",
       "                    </tr>\n",
       "                </thead>\n",
       "                <tbody>\n",
       "                    \n",
       "                    <tr>\n",
       "                        <th> Bytes </th>\n",
       "                        <td> 390.62 kiB </td>\n",
       "                        <td> 7.81 kiB </td>\n",
       "                    </tr>\n",
       "                    \n",
       "                    <tr>\n",
       "                        <th> Shape </th>\n",
       "                        <td> (50000,) </td>\n",
       "                        <td> (1000,) </td>\n",
       "                    </tr>\n",
       "                    <tr>\n",
       "                        <th> Dask graph </th>\n",
       "                        <td colspan=\"2\"> 50 chunks in 5 graph layers </td>\n",
       "                    </tr>\n",
       "                    <tr>\n",
       "                        <th> Data type </th>\n",
       "                        <td colspan=\"2\"> float64 numpy.ndarray </td>\n",
       "                    </tr>\n",
       "                </tbody>\n",
       "            </table>\n",
       "        </td>\n",
       "        <td>\n",
       "        <svg width=\"170\" height=\"75\" style=\"stroke:rgb(0,0,0);stroke-width:1\" >\n",
       "\n",
       "  <!-- Horizontal lines -->\n",
       "  <line x1=\"0\" y1=\"0\" x2=\"120\" y2=\"0\" style=\"stroke-width:2\" />\n",
       "  <line x1=\"0\" y1=\"25\" x2=\"120\" y2=\"25\" style=\"stroke-width:2\" />\n",
       "\n",
       "  <!-- Vertical lines -->\n",
       "  <line x1=\"0\" y1=\"0\" x2=\"0\" y2=\"25\" style=\"stroke-width:2\" />\n",
       "  <line x1=\"4\" y1=\"0\" x2=\"4\" y2=\"25\" />\n",
       "  <line x1=\"12\" y1=\"0\" x2=\"12\" y2=\"25\" />\n",
       "  <line x1=\"16\" y1=\"0\" x2=\"16\" y2=\"25\" />\n",
       "  <line x1=\"24\" y1=\"0\" x2=\"24\" y2=\"25\" />\n",
       "  <line x1=\"31\" y1=\"0\" x2=\"31\" y2=\"25\" />\n",
       "  <line x1=\"36\" y1=\"0\" x2=\"36\" y2=\"25\" />\n",
       "  <line x1=\"43\" y1=\"0\" x2=\"43\" y2=\"25\" />\n",
       "  <line x1=\"50\" y1=\"0\" x2=\"50\" y2=\"25\" />\n",
       "  <line x1=\"55\" y1=\"0\" x2=\"55\" y2=\"25\" />\n",
       "  <line x1=\"62\" y1=\"0\" x2=\"62\" y2=\"25\" />\n",
       "  <line x1=\"67\" y1=\"0\" x2=\"67\" y2=\"25\" />\n",
       "  <line x1=\"74\" y1=\"0\" x2=\"74\" y2=\"25\" />\n",
       "  <line x1=\"81\" y1=\"0\" x2=\"81\" y2=\"25\" />\n",
       "  <line x1=\"86\" y1=\"0\" x2=\"86\" y2=\"25\" />\n",
       "  <line x1=\"93\" y1=\"0\" x2=\"93\" y2=\"25\" />\n",
       "  <line x1=\"100\" y1=\"0\" x2=\"100\" y2=\"25\" />\n",
       "  <line x1=\"105\" y1=\"0\" x2=\"105\" y2=\"25\" />\n",
       "  <line x1=\"112\" y1=\"0\" x2=\"112\" y2=\"25\" />\n",
       "  <line x1=\"120\" y1=\"0\" x2=\"120\" y2=\"25\" style=\"stroke-width:2\" />\n",
       "\n",
       "  <!-- Colored Rectangle -->\n",
       "  <polygon points=\"0.0,0.0 120.0,0.0 120.0,25.412616514582485 0.0,25.412616514582485\" style=\"fill:#8B4903A0;stroke-width:0\"/>\n",
       "\n",
       "  <!-- Text -->\n",
       "  <text x=\"60.000000\" y=\"45.412617\" font-size=\"1.0rem\" font-weight=\"100\" text-anchor=\"middle\" >50000</text>\n",
       "  <text x=\"140.000000\" y=\"12.706308\" font-size=\"1.0rem\" font-weight=\"100\" text-anchor=\"middle\" transform=\"rotate(0,140.000000,12.706308)\">1</text>\n",
       "</svg>\n",
       "        </td>\n",
       "    </tr>\n",
       "</table>"
      ],
      "text/plain": [
       "dask.array<mean_agg-aggregate, shape=(50000,), dtype=float64, chunksize=(1000,), chunktype=numpy.ndarray>"
      ]
     },
     "execution_count": 5,
     "metadata": {},
     "output_type": "execute_result"
    }
   ],
   "source": [
    "media_filasD"
   ]
  },
  {
   "cell_type": "code",
   "execution_count": 8,
   "metadata": {},
   "outputs": [
    {
     "name": "stdout",
     "output_type": "stream",
     "text": [
      "Máximo es: 99\n",
      "21.56166982650757\n",
      "Máximo es: dask.array<max-aggregate, shape=(), dtype=int64, chunksize=(), chunktype=numpy.ndarray>\n",
      "0.02472996711730957\n"
     ]
    }
   ],
   "source": [
    "#Máximos\n",
    "#NP\n",
    "startTimeNP = time.time()\n",
    "maxN = np.max(dNP)\n",
    "print(f\"Máximo es: {maxN}\")\n",
    "print(time.time() -startTimeNP)\n",
    "#Dask\n",
    "startTimeD = time.time()\n",
    "maxD = dD.max()\n",
    "print(f\"Máximo es: {maxD}\")\n",
    "print(time.time() -startTimeD)"
   ]
  },
  {
   "cell_type": "code",
   "execution_count": 9,
   "metadata": {},
   "outputs": [
    {
     "name": "stdout",
     "output_type": "stream",
     "text": [
      "La suma es: [ 80 103 137 ... 121 125  74]\n",
      "5.777093887329102\n",
      "La suma es: dask.array<sum-aggregate, shape=(50000,), dtype=int64, chunksize=(1000,), chunktype=numpy.ndarray>\n",
      "0.025713205337524414\n"
     ]
    }
   ],
   "source": [
    "#Suma de dos columnas\n",
    "#NP\n",
    "startTimeNP = time.time()\n",
    "suma_colN = np.sum(dNP[:, [0, 1]], axis=1)\n",
    "print(f\"La suma es: {suma_colN}\")\n",
    "print(time.time() -startTimeNP)\n",
    "#Dask\n",
    "startTimeD = time.time()\n",
    "suma_colD =  dD[:, [0, 1]].sum(axis=1)\n",
    "print(f\"La suma es: {suma_colD}\")\n",
    "print(time.time() -startTimeD)\n",
    "\n"
   ]
  },
  {
   "cell_type": "code",
   "execution_count": 11,
   "metadata": {},
   "outputs": [
    {
     "data": {
      "application/vnd.jupyter.widget-view+json": {
       "model_id": "8e81662d52fb4eec878f9760403c0ff9",
       "version_major": 2,
       "version_minor": 0
      },
      "text/plain": [
       "CytoscapeWidget(cytoscape_layout={'name': 'dagre', 'rankDir': 'BT', 'nodeSep': 10, 'edgeSep': 10, 'spacingFact…"
      ]
     },
     "execution_count": 11,
     "metadata": {},
     "output_type": "execute_result"
    }
   ],
   "source": [
    "suma_colD.visualize(engine=\"cytoscape\")"
   ]
  },
  {
   "cell_type": "markdown",
   "metadata": {},
   "source": [
    "Manipulación de los arreglos"
   ]
  },
  {
   "cell_type": "code",
   "execution_count": 13,
   "metadata": {},
   "outputs": [
    {
     "name": "stdout",
     "output_type": "stream",
     "text": [
      "0.00011873245239257812\n",
      "0.0069730281829833984\n"
     ]
    }
   ],
   "source": [
    "#Slicing: Obtener las primeras dos filas y columnas de cada array\n",
    "#NP\n",
    "startTimeNP = time.time()\n",
    "subNP = dNP[slice(0, 10000), slice(0, 10000)]\n",
    "subNP\n",
    "print(time.time() -startTimeNP)\n",
    "#Dask\n",
    "startTimeD = time.time()\n",
    "subD =  dD[slice(0, 10000), slice(0, 10000)]\n",
    "print(time.time() -startTimeD)\n",
    "\n",
    "#En este caso, si usamos un subconjunto pequeño es más rápido np array"
   ]
  },
  {
   "cell_type": "code",
   "execution_count": 14,
   "metadata": {},
   "outputs": [
    {
     "name": "stdout",
     "output_type": "stream",
     "text": [
      "6.198883056640625e-05\n",
      "0.00038814544677734375\n"
     ]
    }
   ],
   "source": [
    "#Slicing: Obtener las primeras dos filas y columnas de cada array\n",
    "#NP\n",
    "startTimeNP = time.time()\n",
    "subNP = dNP[slice(0, 10000), slice(0, 10000)]\n",
    "subNP\n",
    "print(time.time() -startTimeNP)\n",
    "#Dask\n",
    "startTimeD = time.time()\n",
    "subD =  dD[slice(0, 10000), slice(0, 10000)]\n",
    "print(time.time() -startTimeD)"
   ]
  },
  {
   "cell_type": "code",
   "execution_count": 15,
   "metadata": {},
   "outputs": [
    {
     "name": "stdout",
     "output_type": "stream",
     "text": [
      "8.320808410644531e-05\n",
      "0.0010349750518798828\n"
     ]
    }
   ],
   "source": [
    "#Trasponer filas y columnas\n",
    "#NP\n",
    "startTimeNP = time.time()\n",
    "traspN = np.transpose(dNP)\n",
    "print(time.time() -startTimeNP)\n",
    "#Dask\n",
    "startTimeD = time.time()\n",
    "traspN = da.transpose(dD)\n",
    "print(time.time() -startTimeD)\n"
   ]
  },
  {
   "cell_type": "code",
   "execution_count": 4,
   "metadata": {},
   "outputs": [],
   "source": [
    "dNP2 = np.random.randint(0, 100, size=(50000, 5))\n",
    "dD2 = da.random.randint(0, 100, size=(50000, 5),chunks=(1000, 1000))\n"
   ]
  },
  {
   "cell_type": "code",
   "execution_count": 7,
   "metadata": {},
   "outputs": [
    {
     "ename": "",
     "evalue": "",
     "output_type": "error",
     "traceback": [
      "\u001b[1;31mThe Kernel crashed while executing code in the current cell or a previous cell. \n",
      "\u001b[1;31mPlease review the code in the cell(s) to identify a possible cause of the failure. \n",
      "\u001b[1;31mClick <a href='https://aka.ms/vscodeJupyterKernelCrash'>here</a> for more info. \n",
      "\u001b[1;31mView Jupyter <a href='command:jupyter.viewOutput'>log</a> for further details."
     ]
    }
   ],
   "source": [
    "#Dask\n",
    "startTimeD = time.time()\n",
    "concat_resultD = da.concatenate([dD, dD2], axis=1)\n",
    "print(time.time() - startTimeD)\n"
   ]
  },
  {
   "cell_type": "code",
   "execution_count": null,
   "metadata": {},
   "outputs": [],
   "source": [
    "#NP\n",
    "startTimeNP = time.time()\n",
    "concat_resultN = np.concatenate((dNP, dNP2), axis=1)\n",
    "print(time.time() -startTimeNP)"
   ]
  }
 ],
 "metadata": {
  "kernelspec": {
   "display_name": "Python 3 (ipykernel)",
   "language": "python",
   "name": "python3"
  },
  "language_info": {
   "codemirror_mode": {
    "name": "ipython",
    "version": 3
   },
   "file_extension": ".py",
   "mimetype": "text/x-python",
   "name": "python",
   "nbconvert_exporter": "python",
   "pygments_lexer": "ipython3",
   "version": "3.12.2"
  }
 },
 "nbformat": 4,
 "nbformat_minor": 4
}
