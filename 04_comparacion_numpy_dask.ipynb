{
 "cells": [
  {
   "cell_type": "markdown",
   "metadata": {},
   "source": [
    "# Comparación Numpy vs. Dask"
   ]
  },
  {
   "cell_type": "code",
   "execution_count": 2,
   "metadata": {},
   "outputs": [],
   "source": [
    "import dask.dataframe as dd\n",
    "from dask.distributed import Client\n",
    "import dask.array as da\n",
    "import time \n",
    "import numpy as np\n",
    "\n"
   ]
  },
  {
   "cell_type": "code",
   "execution_count": 3,
   "metadata": {},
   "outputs": [
    {
     "data": {
      "text/plain": [
       "array([[49, 28, 26, ..., 99, 53, 53],\n",
       "       [48, 65, 89, ..., 66, 93, 38],\n",
       "       [91,  9, 37, ..., 25, 73, 86],\n",
       "       ...,\n",
       "       [ 5,  8, 22, ..., 15, 97, 99],\n",
       "       [75, 12, 83, ..., 16, 92,  9],\n",
       "       [67,  8, 68, ..., 10,  1, 48]])"
      ]
     },
     "execution_count": 3,
     "metadata": {},
     "output_type": "execute_result"
    }
   ],
   "source": [
    "#Creación de datos\n",
    "dNP = np.random.randint(0, 100, size=(50000, 50000))\n",
    "dNP\n"
   ]
  },
  {
   "cell_type": "code",
   "execution_count": 4,
   "metadata": {},
   "outputs": [],
   "source": [
    "dD =da.random.randint(0, 100, size=(50000, 50000),chunks=(1000, 1000))"
   ]
  },
  {
   "cell_type": "markdown",
   "metadata": {},
   "source": [
    "Operaciones Matemáticas"
   ]
  },
  {
   "cell_type": "code",
   "execution_count": 15,
   "metadata": {},
   "outputs": [
    {
     "name": "stdout",
     "output_type": "stream",
     "text": [
      "Medias de las filas: dask.array<mean_agg-aggregate, shape=(50000,), dtype=float64, chunksize=(4096,), chunktype=numpy.ndarray>\n",
      "24.116183042526245\n",
      "Medias de las filas: dask.array<mean_agg-aggregate, shape=(50000,), dtype=float64, chunksize=(4096,), chunktype=numpy.ndarray>\n",
      "0.031744956970214844\n"
     ]
    }
   ],
   "source": [
    "#Sacar media de las filas\n",
    "#NP\n",
    "startTimeNP = time.time()\n",
    "media_filasN = np.mean(dNP, axis=1)\n",
    "print(f\"Medias de las filas: {media_filas}\")\n",
    "print(time.time() -startTimeNP)\n",
    "#Dask\n",
    "startTimeD = time.time()\n",
    "media_filasD = dD.mean(axis=1)\n",
    "print(f\"Medias de las filas: {media_filas}\")\n",
    "print(time.time() -startTimeD)\n",
    "\n"
   ]
  },
  {
   "cell_type": "code",
   "execution_count": 17,
   "metadata": {},
   "outputs": [
    {
     "data": {
      "text/html": [
       "<table>\n",
       "    <tr>\n",
       "        <td>\n",
       "            <table style=\"border-collapse: collapse;\">\n",
       "                <thead>\n",
       "                    <tr>\n",
       "                        <td> </td>\n",
       "                        <th> Array </th>\n",
       "                        <th> Chunk </th>\n",
       "                    </tr>\n",
       "                </thead>\n",
       "                <tbody>\n",
       "                    \n",
       "                    <tr>\n",
       "                        <th> Bytes </th>\n",
       "                        <td> 390.62 kiB </td>\n",
       "                        <td> 32.00 kiB </td>\n",
       "                    </tr>\n",
       "                    \n",
       "                    <tr>\n",
       "                        <th> Shape </th>\n",
       "                        <td> (50000,) </td>\n",
       "                        <td> (4096,) </td>\n",
       "                    </tr>\n",
       "                    <tr>\n",
       "                        <th> Dask graph </th>\n",
       "                        <td colspan=\"2\"> 13 chunks in 4 graph layers </td>\n",
       "                    </tr>\n",
       "                    <tr>\n",
       "                        <th> Data type </th>\n",
       "                        <td colspan=\"2\"> float64 numpy.ndarray </td>\n",
       "                    </tr>\n",
       "                </tbody>\n",
       "            </table>\n",
       "        </td>\n",
       "        <td>\n",
       "        <svg width=\"170\" height=\"75\" style=\"stroke:rgb(0,0,0);stroke-width:1\" >\n",
       "\n",
       "  <!-- Horizontal lines -->\n",
       "  <line x1=\"0\" y1=\"0\" x2=\"120\" y2=\"0\" style=\"stroke-width:2\" />\n",
       "  <line x1=\"0\" y1=\"25\" x2=\"120\" y2=\"25\" style=\"stroke-width:2\" />\n",
       "\n",
       "  <!-- Vertical lines -->\n",
       "  <line x1=\"0\" y1=\"0\" x2=\"0\" y2=\"25\" style=\"stroke-width:2\" />\n",
       "  <line x1=\"9\" y1=\"0\" x2=\"9\" y2=\"25\" />\n",
       "  <line x1=\"19\" y1=\"0\" x2=\"19\" y2=\"25\" />\n",
       "  <line x1=\"29\" y1=\"0\" x2=\"29\" y2=\"25\" />\n",
       "  <line x1=\"39\" y1=\"0\" x2=\"39\" y2=\"25\" />\n",
       "  <line x1=\"49\" y1=\"0\" x2=\"49\" y2=\"25\" />\n",
       "  <line x1=\"58\" y1=\"0\" x2=\"58\" y2=\"25\" />\n",
       "  <line x1=\"68\" y1=\"0\" x2=\"68\" y2=\"25\" />\n",
       "  <line x1=\"78\" y1=\"0\" x2=\"78\" y2=\"25\" />\n",
       "  <line x1=\"88\" y1=\"0\" x2=\"88\" y2=\"25\" />\n",
       "  <line x1=\"98\" y1=\"0\" x2=\"98\" y2=\"25\" />\n",
       "  <line x1=\"108\" y1=\"0\" x2=\"108\" y2=\"25\" />\n",
       "  <line x1=\"117\" y1=\"0\" x2=\"117\" y2=\"25\" />\n",
       "  <line x1=\"120\" y1=\"0\" x2=\"120\" y2=\"25\" style=\"stroke-width:2\" />\n",
       "\n",
       "  <!-- Colored Rectangle -->\n",
       "  <polygon points=\"0.0,0.0 120.0,0.0 120.0,25.412616514582485 0.0,25.412616514582485\" style=\"fill:#ECB172A0;stroke-width:0\"/>\n",
       "\n",
       "  <!-- Text -->\n",
       "  <text x=\"60.000000\" y=\"45.412617\" font-size=\"1.0rem\" font-weight=\"100\" text-anchor=\"middle\" >50000</text>\n",
       "  <text x=\"140.000000\" y=\"12.706308\" font-size=\"1.0rem\" font-weight=\"100\" text-anchor=\"middle\" transform=\"rotate(0,140.000000,12.706308)\">1</text>\n",
       "</svg>\n",
       "        </td>\n",
       "    </tr>\n",
       "</table>"
      ],
      "text/plain": [
       "dask.array<mean_agg-aggregate, shape=(50000,), dtype=float64, chunksize=(4096,), chunktype=numpy.ndarray>"
      ]
     },
     "execution_count": 17,
     "metadata": {},
     "output_type": "execute_result"
    }
   ],
   "source": [
    "media_filasD"
   ]
  },
  {
   "cell_type": "code",
   "execution_count": 6,
   "metadata": {},
   "outputs": [
    {
     "name": "stdout",
     "output_type": "stream",
     "text": [
      "Máximo es: 99\n",
      "22.37541389465332\n",
      "Máximo es: dask.array<max-aggregate, shape=(), dtype=int64, chunksize=(), chunktype=numpy.ndarray>\n",
      "0.03896594047546387\n"
     ]
    }
   ],
   "source": [
    "#Máximos\n",
    "#NP\n",
    "startTimeNP = time.time()\n",
    "maxN = np.max(dNP)\n",
    "print(f\"Máximo es: {maxN}\")\n",
    "print(time.time() -startTimeNP)\n",
    "#Dask\n",
    "startTimeD = time.time()\n",
    "maxD = dD.max()\n",
    "print(f\"Máximo es: {maxD}\")\n",
    "print(time.time() -startTimeD)"
   ]
  },
  {
   "cell_type": "code",
   "execution_count": 21,
   "metadata": {},
   "outputs": [
    {
     "name": "stdout",
     "output_type": "stream",
     "text": [
      "La suma es: [ 77 113 100 ...  13  87  75]\n",
      "8.14670705795288\n",
      "La suma es: dask.array<sum-aggregate, shape=(50000,), dtype=int64, chunksize=(4096,), chunktype=numpy.ndarray>\n",
      "0.03273177146911621\n"
     ]
    }
   ],
   "source": [
    "#Suma de dos columnas\n",
    "#NP\n",
    "startTimeNP = time.time()\n",
    "suma_colN = np.sum(dNP[:, [0, 1]], axis=1)\n",
    "print(f\"La suma es: {suma_colN}\")\n",
    "print(time.time() -startTimeNP)\n",
    "#Dask\n",
    "startTimeD = time.time()\n",
    "suma_colD =  dD[:, [0, 1]].sum(axis=1)\n",
    "print(f\"La suma es: {suma_colD}\")\n",
    "print(time.time() -startTimeD)\n",
    "\n"
   ]
  },
  {
   "cell_type": "code",
   "execution_count": 24,
   "metadata": {},
   "outputs": [
    {
     "data": {
      "application/vnd.jupyter.widget-view+json": {
       "model_id": "b238edb440da4d6ba1f05a2d0f2dba03",
       "version_major": 2,
       "version_minor": 0
      },
      "text/plain": [
       "CytoscapeWidget(cytoscape_layout={'name': 'dagre', 'rankDir': 'BT', 'nodeSep': 10, 'edgeSep': 10, 'spacingFact…"
      ]
     },
     "execution_count": 24,
     "metadata": {},
     "output_type": "execute_result"
    }
   ],
   "source": [
    "suma_colD.visualize(engine=\"cytoscape\")"
   ]
  },
  {
   "cell_type": "markdown",
   "metadata": {},
   "source": [
    "Manipulación de los arreglos"
   ]
  },
  {
   "cell_type": "code",
   "execution_count": 8,
   "metadata": {},
   "outputs": [
    {
     "name": "stdout",
     "output_type": "stream",
     "text": [
      "0.00037789344787597656\n",
      "0.007956981658935547\n"
     ]
    }
   ],
   "source": [
    "#Slicing: Obtener las primeras dos filas y columnas de cada array\n",
    "#NP\n",
    "startTimeNP = time.time()\n",
    "subNP = dNP[slice(0, 10000), slice(0, 10000)]\n",
    "subNP\n",
    "print(time.time() -startTimeNP)\n",
    "#Dask\n",
    "startTimeD = time.time()\n",
    "subD =  dD[slice(0, 10000), slice(0, 10000)]\n",
    "print(time.time() -startTimeD)\n",
    "\n",
    "#En este caso, si usamos un subconjunto pequeño es más rápido np array"
   ]
  },
  {
   "cell_type": "code",
   "execution_count": 9,
   "metadata": {},
   "outputs": [
    {
     "name": "stdout",
     "output_type": "stream",
     "text": [
      "5.1975250244140625e-05\n",
      "0.0002772808074951172\n"
     ]
    }
   ],
   "source": [
    "#Slicing: Obtener las primeras dos filas y columnas de cada array\n",
    "#NP\n",
    "startTimeNP = time.time()\n",
    "subNP = dNP[slice(0, 10000), slice(0, 10000)]\n",
    "subNP\n",
    "print(time.time() -startTimeNP)\n",
    "#Dask\n",
    "startTimeD = time.time()\n",
    "subD =  dD[slice(0, 10000), slice(0, 10000)]\n",
    "print(time.time() -startTimeD)"
   ]
  },
  {
   "cell_type": "code",
   "execution_count": 12,
   "metadata": {},
   "outputs": [
    {
     "name": "stdout",
     "output_type": "stream",
     "text": [
      "9.512901306152344e-05\n",
      "0.0011589527130126953\n"
     ]
    }
   ],
   "source": [
    "#Trasponer filas y columnas\n",
    "#NP\n",
    "startTimeNP = time.time()\n",
    "traspN = np.transpose(dNP)\n",
    "print(time.time() -startTimeNP)\n",
    "#Dask\n",
    "startTimeD = time.time()\n",
    "traspN = da.transpose(dD)\n",
    "print(time.time() -startTimeD)\n"
   ]
  },
  {
   "cell_type": "code",
   "execution_count": 25,
   "metadata": {},
   "outputs": [],
   "source": [
    "dNP2 = np.random.randint(0, 100, size=(5, 50000))\n",
    "dD2 = da.random.randint(0, 100, size=(5, 50000),chunks=(1000, 1000))\n"
   ]
  },
  {
   "cell_type": "code",
   "execution_count": 26,
   "metadata": {},
   "outputs": [
    {
     "ename": "",
     "evalue": "",
     "output_type": "error",
     "traceback": [
      "\u001b[1;31mThe Kernel crashed while executing code in the current cell or a previous cell. \n",
      "\u001b[1;31mPlease review the code in the cell(s) to identify a possible cause of the failure. \n",
      "\u001b[1;31mClick <a href='https://aka.ms/vscodeJupyterKernelCrash'>here</a> for more info. \n",
      "\u001b[1;31mView Jupyter <a href='command:jupyter.viewOutput'>log</a> for further details."
     ]
    }
   ],
   "source": [
    "#NP\n",
    "startTimeNP = time.time()\n",
    "concat_result = np.concatenate((dNP, dNP2), axis=1)\n",
    "print(time.time() -startTimeNP)\n",
    "#Dask\n",
    "startTimeD = time.time()\n",
    "da.stack([dD, dD2], axis=1)\n",
    "print(time.time() -startTimeD)"
   ]
  }
 ],
 "metadata": {
  "kernelspec": {
   "display_name": ".venv",
   "language": "python",
   "name": "python3"
  },
  "language_info": {
   "codemirror_mode": {
    "name": "ipython",
    "version": 3
   },
   "file_extension": ".py",
   "mimetype": "text/x-python",
   "name": "python",
   "nbconvert_exporter": "python",
   "pygments_lexer": "ipython3",
   "version": "3.12.2"
  }
 },
 "nbformat": 4,
 "nbformat_minor": 2
}
