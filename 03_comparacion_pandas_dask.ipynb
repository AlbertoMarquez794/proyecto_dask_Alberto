{
 "cells": [
  {
   "cell_type": "markdown",
   "metadata": {},
   "source": [
    "# Comparación Pandas vs. Dask"
   ]
  },
  {
   "cell_type": "code",
   "execution_count": 2,
   "metadata": {},
   "outputs": [],
   "source": [
    "import dask.dataframe as dd\n",
    "from dask.distributed import Client\n",
    "import pandas as pd\n",
    "import time\n",
    "import os\n",
    "import glob"
   ]
  },
  {
   "cell_type": "markdown",
   "metadata": {},
   "source": [
    "Lectura de archivos"
   ]
  },
  {
   "cell_type": "code",
   "execution_count": 3,
   "metadata": {},
   "outputs": [
    {
     "name": "stdout",
     "output_type": "stream",
     "text": [
      "Pandas se tardo:  {3.1244428157806396}\n"
     ]
    }
   ],
   "source": [
    "#Pandas\n",
    "start_timeP = time.time()\n",
    "file_paths = glob.glob(os.path.join(\"data\", \"nycflights\", \"*.csv\"))\n",
    "df = pd.concat(\n",
    "    [pd.read_csv(file, \n",
    "                 dtype={'CRSElapsedTime': 'float64', 'TailNum': 'object', 'Cancelled':'bool'}) for file in file_paths],\n",
    "                 ignore_index=True) #Lectura de cada uno de los archivos csv como distintos df y luego los concatena\n",
    "\n",
    "pandas_time = print(\"Pandas se tardo: \", {time.time()-start_timeP})"
   ]
  },
  {
   "cell_type": "code",
   "execution_count": null,
   "metadata": {},
   "outputs": [
    {
     "name": "stdout",
     "output_type": "stream",
     "text": [
      "Dask se tardo:  {0.05045938491821289}\n"
     ]
    }
   ],
   "source": [
    "\n",
    "#Dask\n",
    "start_timeD = time.time()\n",
    "dtype={'CRSElapsedTime': 'float64', 'TailNum': 'object', 'Cancelled':'bool'}\n",
    "ddf = dd.read_csv(\"data/nycflights/*.csv\", dtype=dtype)\n",
    "dask_time = print(\"Dask se tardo: \", {time.time()-start_timeD})\n"
   ]
  },
  {
   "cell_type": "markdown",
   "metadata": {},
   "source": [
    "Notar que Dask puede leer varios archivos con un solo comando, sin la necesidad de utiliza un ciclo."
   ]
  },
  {
   "cell_type": "code",
   "execution_count": null,
   "metadata": {},
   "outputs": [
    {
     "data": {
      "text/plain": [
       "2611892"
      ]
     },
     "execution_count": 34,
     "metadata": {},
     "output_type": "execute_result"
    }
   ],
   "source": [
    "#Cantidad de filas en el data set\n",
    "len(df)"
   ]
  },
  {
   "cell_type": "code",
   "execution_count": null,
   "metadata": {},
   "outputs": [
    {
     "data": {
      "text/plain": [
       "Year                   int64\n",
       "Month                  int64\n",
       "DayofMonth             int64\n",
       "DayOfWeek              int64\n",
       "DepTime              float64\n",
       "CRSDepTime             int64\n",
       "ArrTime              float64\n",
       "CRSArrTime             int64\n",
       "UniqueCarrier         object\n",
       "FlightNum              int64\n",
       "TailNum               object\n",
       "ActualElapsedTime    float64\n",
       "CRSElapsedTime       float64\n",
       "AirTime              float64\n",
       "ArrDelay             float64\n",
       "DepDelay             float64\n",
       "Origin                object\n",
       "Dest                  object\n",
       "Distance             float64\n",
       "TaxiIn               float64\n",
       "TaxiOut              float64\n",
       "Cancelled               bool\n",
       "Diverted               int64\n",
       "dtype: object"
      ]
     },
     "execution_count": 41,
     "metadata": {},
     "output_type": "execute_result"
    }
   ],
   "source": [
    "df.dtypes"
   ]
  },
  {
   "cell_type": "markdown",
   "metadata": {},
   "source": [
    "Groups By"
   ]
  },
  {
   "cell_type": "code",
   "execution_count": null,
   "metadata": {},
   "outputs": [
    {
     "data": {
      "text/html": [
       "<div>\n",
       "<style scoped>\n",
       "    .dataframe tbody tr th:only-of-type {\n",
       "        vertical-align: middle;\n",
       "    }\n",
       "\n",
       "    .dataframe tbody tr th {\n",
       "        vertical-align: top;\n",
       "    }\n",
       "\n",
       "    .dataframe thead th {\n",
       "        text-align: right;\n",
       "    }\n",
       "</style>\n",
       "<table border=\"1\" class=\"dataframe\">\n",
       "  <thead>\n",
       "    <tr style=\"text-align: right;\">\n",
       "      <th></th>\n",
       "      <th>Year</th>\n",
       "      <th>Month</th>\n",
       "      <th>DayofMonth</th>\n",
       "      <th>DayOfWeek</th>\n",
       "      <th>DepTime</th>\n",
       "      <th>CRSDepTime</th>\n",
       "      <th>ArrTime</th>\n",
       "      <th>CRSArrTime</th>\n",
       "      <th>UniqueCarrier</th>\n",
       "      <th>FlightNum</th>\n",
       "      <th>...</th>\n",
       "      <th>AirTime</th>\n",
       "      <th>ArrDelay</th>\n",
       "      <th>DepDelay</th>\n",
       "      <th>Origin</th>\n",
       "      <th>Dest</th>\n",
       "      <th>Distance</th>\n",
       "      <th>TaxiIn</th>\n",
       "      <th>TaxiOut</th>\n",
       "      <th>Cancelled</th>\n",
       "      <th>Diverted</th>\n",
       "    </tr>\n",
       "  </thead>\n",
       "  <tbody>\n",
       "    <tr>\n",
       "      <th>0</th>\n",
       "      <td>1990</td>\n",
       "      <td>1</td>\n",
       "      <td>1</td>\n",
       "      <td>1</td>\n",
       "      <td>1621.0</td>\n",
       "      <td>1540</td>\n",
       "      <td>1747.0</td>\n",
       "      <td>1701</td>\n",
       "      <td>US</td>\n",
       "      <td>33</td>\n",
       "      <td>...</td>\n",
       "      <td>NaN</td>\n",
       "      <td>46.0</td>\n",
       "      <td>41.0</td>\n",
       "      <td>EWR</td>\n",
       "      <td>PIT</td>\n",
       "      <td>319.0</td>\n",
       "      <td>NaN</td>\n",
       "      <td>NaN</td>\n",
       "      <td>False</td>\n",
       "      <td>0</td>\n",
       "    </tr>\n",
       "    <tr>\n",
       "      <th>1</th>\n",
       "      <td>1990</td>\n",
       "      <td>1</td>\n",
       "      <td>2</td>\n",
       "      <td>2</td>\n",
       "      <td>1547.0</td>\n",
       "      <td>1540</td>\n",
       "      <td>1700.0</td>\n",
       "      <td>1701</td>\n",
       "      <td>US</td>\n",
       "      <td>33</td>\n",
       "      <td>...</td>\n",
       "      <td>NaN</td>\n",
       "      <td>-1.0</td>\n",
       "      <td>7.0</td>\n",
       "      <td>EWR</td>\n",
       "      <td>PIT</td>\n",
       "      <td>319.0</td>\n",
       "      <td>NaN</td>\n",
       "      <td>NaN</td>\n",
       "      <td>False</td>\n",
       "      <td>0</td>\n",
       "    </tr>\n",
       "    <tr>\n",
       "      <th>2</th>\n",
       "      <td>1990</td>\n",
       "      <td>1</td>\n",
       "      <td>3</td>\n",
       "      <td>3</td>\n",
       "      <td>1546.0</td>\n",
       "      <td>1540</td>\n",
       "      <td>1710.0</td>\n",
       "      <td>1701</td>\n",
       "      <td>US</td>\n",
       "      <td>33</td>\n",
       "      <td>...</td>\n",
       "      <td>NaN</td>\n",
       "      <td>9.0</td>\n",
       "      <td>6.0</td>\n",
       "      <td>EWR</td>\n",
       "      <td>PIT</td>\n",
       "      <td>319.0</td>\n",
       "      <td>NaN</td>\n",
       "      <td>NaN</td>\n",
       "      <td>False</td>\n",
       "      <td>0</td>\n",
       "    </tr>\n",
       "    <tr>\n",
       "      <th>3</th>\n",
       "      <td>1990</td>\n",
       "      <td>1</td>\n",
       "      <td>4</td>\n",
       "      <td>4</td>\n",
       "      <td>1542.0</td>\n",
       "      <td>1540</td>\n",
       "      <td>1710.0</td>\n",
       "      <td>1701</td>\n",
       "      <td>US</td>\n",
       "      <td>33</td>\n",
       "      <td>...</td>\n",
       "      <td>NaN</td>\n",
       "      <td>9.0</td>\n",
       "      <td>2.0</td>\n",
       "      <td>EWR</td>\n",
       "      <td>PIT</td>\n",
       "      <td>319.0</td>\n",
       "      <td>NaN</td>\n",
       "      <td>NaN</td>\n",
       "      <td>False</td>\n",
       "      <td>0</td>\n",
       "    </tr>\n",
       "    <tr>\n",
       "      <th>4</th>\n",
       "      <td>1990</td>\n",
       "      <td>1</td>\n",
       "      <td>5</td>\n",
       "      <td>5</td>\n",
       "      <td>1549.0</td>\n",
       "      <td>1540</td>\n",
       "      <td>1706.0</td>\n",
       "      <td>1701</td>\n",
       "      <td>US</td>\n",
       "      <td>33</td>\n",
       "      <td>...</td>\n",
       "      <td>NaN</td>\n",
       "      <td>5.0</td>\n",
       "      <td>9.0</td>\n",
       "      <td>EWR</td>\n",
       "      <td>PIT</td>\n",
       "      <td>319.0</td>\n",
       "      <td>NaN</td>\n",
       "      <td>NaN</td>\n",
       "      <td>False</td>\n",
       "      <td>0</td>\n",
       "    </tr>\n",
       "  </tbody>\n",
       "</table>\n",
       "<p>5 rows × 23 columns</p>\n",
       "</div>"
      ],
      "text/plain": [
       "   Year  Month  DayofMonth  DayOfWeek  DepTime  CRSDepTime  ArrTime  \\\n",
       "0  1990      1           1          1   1621.0        1540   1747.0   \n",
       "1  1990      1           2          2   1547.0        1540   1700.0   \n",
       "2  1990      1           3          3   1546.0        1540   1710.0   \n",
       "3  1990      1           4          4   1542.0        1540   1710.0   \n",
       "4  1990      1           5          5   1549.0        1540   1706.0   \n",
       "\n",
       "   CRSArrTime UniqueCarrier  FlightNum  ... AirTime  ArrDelay  DepDelay  \\\n",
       "0        1701            US         33  ...     NaN      46.0      41.0   \n",
       "1        1701            US         33  ...     NaN      -1.0       7.0   \n",
       "2        1701            US         33  ...     NaN       9.0       6.0   \n",
       "3        1701            US         33  ...     NaN       9.0       2.0   \n",
       "4        1701            US         33  ...     NaN       5.0       9.0   \n",
       "\n",
       "   Origin  Dest  Distance TaxiIn TaxiOut  Cancelled  Diverted  \n",
       "0     EWR   PIT     319.0    NaN     NaN      False         0  \n",
       "1     EWR   PIT     319.0    NaN     NaN      False         0  \n",
       "2     EWR   PIT     319.0    NaN     NaN      False         0  \n",
       "3     EWR   PIT     319.0    NaN     NaN      False         0  \n",
       "4     EWR   PIT     319.0    NaN     NaN      False         0  \n",
       "\n",
       "[5 rows x 23 columns]"
      ]
     },
     "execution_count": 42,
     "metadata": {},
     "output_type": "execute_result"
    }
   ],
   "source": [
    "df.head()"
   ]
  },
  {
   "cell_type": "code",
   "execution_count": null,
   "metadata": {},
   "outputs": [
    {
     "name": "stdout",
     "output_type": "stream",
     "text": [
      "Pandas se tardo:  {0.14318203926086426}\n",
      "Dask se tardo:  {0.007949113845825195}\n"
     ]
    },
    {
     "data": {
      "image/svg+xml": [
       "<?xml version=\"1.0\" encoding=\"UTF-8\" standalone=\"no\"?>\n",
       "<!DOCTYPE svg PUBLIC \"-//W3C//DTD SVG 1.1//EN\"\n",
       " \"http://www.w3.org/Graphics/SVG/1.1/DTD/svg11.dtd\">\n",
       "<!-- Generated by graphviz version 2.49.0 (0)\n",
       " -->\n",
       "<!-- Pages: 1 -->\n",
       "<svg width=\"403pt\" height=\"260pt\"\n",
       " viewBox=\"0.00 0.00 403.00 260.00\" xmlns=\"http://www.w3.org/2000/svg\" xmlns:xlink=\"http://www.w3.org/1999/xlink\">\n",
       "<g id=\"graph0\" class=\"graph\" transform=\"scale(1 1) rotate(0) translate(4 256)\">\n",
       "<polygon fill=\"white\" stroke=\"transparent\" points=\"-4,4 -4,-256 399,-256 399,4 -4,4\"/>\n",
       "<!-- &#45;7957020381928976605 -->\n",
       "<g id=\"node1\" class=\"node\">\n",
       "<title>&#45;7957020381928976605</title>\n",
       "<polygon fill=\"none\" stroke=\"black\" points=\"331.5,-252 63.5,-252 63.5,-216 331.5,-216 331.5,-252\"/>\n",
       "<text text-anchor=\"middle\" x=\"197.5\" y=\"-229\" font-family=\"Helvetica,sans-Serif\" font-size=\"20.00\">Projection(Mean, DepDelay)</text>\n",
       "</g>\n",
       "<!-- 7077546068871601347 -->\n",
       "<g id=\"node2\" class=\"node\">\n",
       "<title>7077546068871601347</title>\n",
       "<polygon fill=\"none\" stroke=\"black\" points=\"282.5,-180 112.5,-180 112.5,-144 282.5,-144 282.5,-180\"/>\n",
       "<text text-anchor=\"middle\" x=\"197.5\" y=\"-157\" font-family=\"Helvetica,sans-Serif\" font-size=\"20.00\">Mean(Projection)</text>\n",
       "</g>\n",
       "<!-- 7077546068871601347&#45;&gt;&#45;7957020381928976605 -->\n",
       "<g id=\"edge1\" class=\"edge\">\n",
       "<title>7077546068871601347&#45;&gt;&#45;7957020381928976605</title>\n",
       "<path fill=\"none\" stroke=\"black\" d=\"M197.5,-180.3C197.5,-188.02 197.5,-197.29 197.5,-205.89\"/>\n",
       "<polygon fill=\"black\" stroke=\"black\" points=\"194,-205.9 197.5,-215.9 201,-205.9 194,-205.9\"/>\n",
       "</g>\n",
       "<!-- &#45;7156358559232852254 -->\n",
       "<g id=\"node3\" class=\"node\">\n",
       "<title>&#45;7156358559232852254</title>\n",
       "<polygon fill=\"none\" stroke=\"black\" points=\"395,-108 0,-108 0,-72 395,-72 395,-108\"/>\n",
       "<text text-anchor=\"middle\" x=\"197.5\" y=\"-85\" font-family=\"Helvetica,sans-Serif\" font-size=\"20.00\">Projection(ReadCSV, [&#39;DepDelay&#39;, &#39;Origin&#39;])</text>\n",
       "</g>\n",
       "<!-- &#45;7156358559232852254&#45;&gt;7077546068871601347 -->\n",
       "<g id=\"edge2\" class=\"edge\">\n",
       "<title>&#45;7156358559232852254&#45;&gt;7077546068871601347</title>\n",
       "<path fill=\"none\" stroke=\"black\" d=\"M197.5,-108.3C197.5,-116.02 197.5,-125.29 197.5,-133.89\"/>\n",
       "<polygon fill=\"black\" stroke=\"black\" points=\"194,-133.9 197.5,-143.9 201,-133.9 194,-133.9\"/>\n",
       "</g>\n",
       "<!-- &#45;1139262494334760039 -->\n",
       "<g id=\"node4\" class=\"node\">\n",
       "<title>&#45;1139262494334760039</title>\n",
       "<polygon fill=\"none\" stroke=\"black\" points=\"250.5,-36 144.5,-36 144.5,0 250.5,0 250.5,-36\"/>\n",
       "<text text-anchor=\"middle\" x=\"197.5\" y=\"-13\" font-family=\"Helvetica,sans-Serif\" font-size=\"20.00\">ReadCSV</text>\n",
       "</g>\n",
       "<!-- &#45;1139262494334760039&#45;&gt;&#45;7156358559232852254 -->\n",
       "<g id=\"edge3\" class=\"edge\">\n",
       "<title>&#45;1139262494334760039&#45;&gt;&#45;7156358559232852254</title>\n",
       "<path fill=\"none\" stroke=\"black\" d=\"M197.5,-36.3C197.5,-44.02 197.5,-53.29 197.5,-61.89\"/>\n",
       "<polygon fill=\"black\" stroke=\"black\" points=\"194,-61.9 197.5,-71.9 201,-61.9 194,-61.9\"/>\n",
       "</g>\n",
       "</g>\n",
       "</svg>\n"
      ],
      "text/plain": [
       "<graphviz.graphs.Digraph at 0x14239bc50>"
      ]
     },
     "execution_count": 51,
     "metadata": {},
     "output_type": "execute_result"
    }
   ],
   "source": [
    "#Los aeropuerto ue tiene mas demoras en promedio?\n",
    "\n",
    "#Pandas\n",
    "start_timeP = time.time()\n",
    "df_retrasos = df.groupby(\"Origin\").DepDelay.mean()\n",
    "pandas_time = print(\"Pandas se tardo: \", {time.time()-start_timeP})\n",
    "#Dask\n",
    "start_timeD = time.time()\n",
    "ddf_retrasos = ddf.groupby(\"Origin\").DepDelay.mean()\n",
    "pandas_time = print(\"Dask se tardo: \", {time.time()-start_timeD})\n",
    "ddf_retrasos.visualize() #Muestra la partición en Dask"
   ]
  },
  {
   "cell_type": "code",
   "execution_count": null,
   "metadata": {},
   "outputs": [
    {
     "name": "stdout",
     "output_type": "stream",
     "text": [
      "Pandas se tardo:  {0.03867793083190918}\n",
      "Pandas se tardo:  {0.010017156600952148}\n"
     ]
    }
   ],
   "source": [
    "#Vuelos cancelados por día de la semana \n",
    "#Pandas\n",
    "start_timeP = time.time()\n",
    "df_vuelosCancelados = df[df['Cancelled'] == True].groupby('DayOfWeek').count().Cancelled\n",
    "pandas_time = print(\"Pandas se tardo: \", {time.time()-start_timeP})\n",
    "\n",
    "#Dask\n",
    "start_timeD = time.time()\n",
    "ddf_vuelosCancelados = ddf[ddf['Cancelled'] == True].groupby('DayOfWeek').count().Cancelled\n",
    "pandas_time = print(\"Dask se tardo: \", {time.time()-start_timeD})\n"
   ]
  },
  {
   "cell_type": "markdown",
   "metadata": {},
   "source": [
    "## Aplicar las funciones"
   ]
  },
  {
   "cell_type": "code",
   "execution_count": null,
   "metadata": {},
   "outputs": [
    {
     "name": "stdout",
     "output_type": "stream",
     "text": [
      "Pandas se tardo:  {0.3326389789581299}\n",
      "Dask se tardo:  {0.0007638931274414062}\n"
     ]
    }
   ],
   "source": [
    "#Agregarle 100 a toda la columna de distancia con una función Aplly \n",
    "#Pandas\n",
    "start_timeP = time.time()\n",
    "df[\"Distance\"].apply(\n",
    "    lambda x: x + 100\n",
    ") \n",
    "print(\"Pandas se tardo: \", {time.time()-start_timeP})\n",
    "\n",
    "#Dask\n",
    "start_timeD = time.time()\n",
    "ddf[\"Distance\"].apply(\n",
    "    lambda x: x + 100, meta=('x','float')\n",
    ") \n",
    "print(\"Dask se tardo: \", {time.time()-start_timeD})\n"
   ]
  },
  {
   "cell_type": "markdown",
   "metadata": {},
   "source": [
    "Agregar y eliminar columnas"
   ]
  },
  {
   "cell_type": "code",
   "execution_count": null,
   "metadata": {},
   "outputs": [
    {
     "name": "stdout",
     "output_type": "stream",
     "text": [
      "Dask se tardo:  {0.0760498046875}\n",
      "Dask se tardo:  {0.003607034683227539}\n"
     ]
    }
   ],
   "source": [
    "#Agregar retraso total  en otra columna\n",
    "#Pandas\n",
    "start_timeP = time.time()\n",
    "df['Total retraso'] = df['ArrDelay'] + df['DepDelay']\n",
    "print(\"Pandas se tardo: \", {time.time()-start_timeP})\n",
    "\n",
    "#Dask\n",
    "start_timeD = time.time()\n",
    "ddf['Total retraso'] = ddf['ArrDelay'] + ddf['DepDelay']\n",
    "print(\"Dask se tardo: \", {time.time()-start_timeD})"
   ]
  },
  {
   "cell_type": "code",
   "execution_count": null,
   "metadata": {},
   "outputs": [
    {
     "name": "stdout",
     "output_type": "stream",
     "text": [
      "Pandas se tardo:  {0.3361799716949463}\n",
      "Dask se tardo:  {0.001226186752319336}\n"
     ]
    }
   ],
   "source": [
    "#Eliminar columnas\n",
    "#Pandas\n",
    "start_timeP = time.time()\n",
    "df = df.drop(columns=['AirTime', 'TaxiIn'])\n",
    "print(\"Pandas se tardo: \", {time.time()-start_timeP})\n",
    "#Dask\n",
    "start_timeD = time.time()\n",
    "ddf = ddf.drop(columns=['AirTime', 'TaxiIn'])\n",
    "print(\"Dask se tardo: \", {time.time()-start_timeD})\n"
   ]
  },
  {
   "cell_type": "code",
   "execution_count": null,
   "metadata": {},
   "outputs": [
    {
     "name": "stdout",
     "output_type": "stream",
     "text": [
      "Pandas se tardo:  {1.2723782062530518}\n",
      "Dask se tardo:  {0.0027670860290527344}\n"
     ]
    }
   ],
   "source": [
    "#Concatenar Columnas: Juntamos Toda la fecha en una columna\n",
    "#Pandas\n",
    "start_timeP = time.time()\n",
    "df['fecha'] = df['DayofMonth'].astype(str) + '/' + df['Month'].astype(str) + '/' + df['Year'].astype(str)\n",
    "print(\"Pandas se tardo: \", {time.time()-start_timeP})\n",
    "#Dask\n",
    "start_timeD = time.time()\n",
    "ddf['fecha'] = ddf['DayofMonth'].astype(str) + '/' + ddf['Month'].astype(str) + '/' + ddf['Year'].astype(str)\n",
    "print(\"Dask se tardo: \", {time.time()-start_timeD})"
   ]
  },
  {
   "cell_type": "code",
   "execution_count": null,
   "metadata": {},
   "outputs": [],
   "source": [
    "ddf = ddf.drop(columns=['Year', 'Month', 'DayofMonth'])\n",
    "df = df.drop(columns=['Year', 'Month', 'DayofMonth'])\n",
    "ddf = ddf.drop(columns=['DepTime', 'ArrTime'])\n",
    "df = df.drop(columns=['DepTime', 'ArrTime'])"
   ]
  },
  {
   "cell_type": "markdown",
   "metadata": {},
   "source": [
    "Cambiar tipo de dato"
   ]
  },
  {
   "cell_type": "code",
   "execution_count": null,
   "metadata": {},
   "outputs": [
    {
     "name": "stdout",
     "output_type": "stream",
     "text": [
      "Pandas se tardo:  {0.533721923828125}\n",
      "Dask se tardo:  {0.005429983139038086}\n"
     ]
    }
   ],
   "source": [
    "#Pandas\n",
    "start_timeP = time.time()\n",
    "df['fecha'] = dd.to_datetime(df['fecha'], format='%d/%m/%Y')\n",
    "print(\"Pandas se tardo: \", {time.time()-start_timeP})\n",
    "#Dask\n",
    "start_timeD = time.time()\n",
    "ddf['fecha'] = dd.to_datetime(ddf['fecha'],format='%d/%m/%Y')\n",
    "print(\"Dask se tardo: \", {time.time()-start_timeD})"
   ]
  },
  {
   "cell_type": "code",
   "execution_count": null,
   "metadata": {},
   "outputs": [],
   "source": [
    "# Convertir la columna 'CRSDepTime' a tipo entero\n",
    "ddf['CRSDepTime'] = ddf['CRSDepTime'].astype('int')\n",
    "df['CRSDepTime'] = df['CRSDepTime'].astype('int')\n",
    "ddf['CRSArrTime'] = ddf['CRSArrTime'].astype('int')\n",
    "df['CRSArrTime'] = df['CRSArrTime'].astype('int')\n"
   ]
  },
  {
   "cell_type": "code",
   "execution_count": null,
   "metadata": {},
   "outputs": [
    {
     "name": "stdout",
     "output_type": "stream",
     "text": [
      "Dask se tardo:  {0.010744094848632812}\n"
     ]
    }
   ],
   "source": [
    "\n",
    "#Dask\n",
    "start_timeD = time.time()\n",
    "ddf['CRSDepTime'] = dd.to_datetime(ddf['CRSDepTime'], format='%H%M')\n",
    "print(\"Dask se tardo: \", {time.time()-start_timeD})"
   ]
  },
  {
   "cell_type": "code",
   "execution_count": null,
   "metadata": {},
   "outputs": [
    {
     "name": "stdout",
     "output_type": "stream",
     "text": [
      "Pandas se tardo:  0.18915104866027832\n"
     ]
    }
   ],
   "source": [
    "#Pandas\n",
    "df['CRSDepTime'] = df['CRSDepTime'].apply(lambda x: f'{int(x):04d}')\n",
    "start_timeD = time.time()\n",
    "# Convertir CRSDepTime en formato 'HHMM' a datetime\n",
    "df['CRSDepTime'] = pd.to_datetime(df['CRSDepTime'], format='%H%M')\n",
    "\n",
    "print(\"Pandas se tardo: \", time.time() - start_timeD)"
   ]
  },
  {
   "cell_type": "code",
   "execution_count": null,
   "metadata": {},
   "outputs": [
    {
     "data": {
      "text/plain": [
       "DayOfWeek                    float64\n",
       "CRSDepTime            datetime64[ns]\n",
       "CRSArrTime                   float64\n",
       "UniqueCarrier        string[pyarrow]\n",
       "FlightNum                    float64\n",
       "TailNum              string[pyarrow]\n",
       "ActualElapsedTime            float64\n",
       "CRSElapsedTime               float64\n",
       "ArrDelay                     float64\n",
       "DepDelay                     float64\n",
       "Origin               string[pyarrow]\n",
       "Dest                 string[pyarrow]\n",
       "Distance                     float64\n",
       "Cancelled                     object\n",
       "Total retraso                float64\n",
       "fecha                 datetime64[ns]\n",
       "dtype: object"
      ]
     },
     "execution_count": 120,
     "metadata": {},
     "output_type": "execute_result"
    }
   ],
   "source": [
    "ddf.dtypes"
   ]
  },
  {
   "cell_type": "code",
   "execution_count": null,
   "metadata": {},
   "outputs": [
    {
     "data": {
      "text/html": [
       "<div>\n",
       "<style scoped>\n",
       "    .dataframe tbody tr th:only-of-type {\n",
       "        vertical-align: middle;\n",
       "    }\n",
       "\n",
       "    .dataframe tbody tr th {\n",
       "        vertical-align: top;\n",
       "    }\n",
       "\n",
       "    .dataframe thead th {\n",
       "        text-align: right;\n",
       "    }\n",
       "</style>\n",
       "<table border=\"1\" class=\"dataframe\">\n",
       "  <thead>\n",
       "    <tr style=\"text-align: right;\">\n",
       "      <th></th>\n",
       "      <th>DayOfWeek</th>\n",
       "      <th>CRSDepTime</th>\n",
       "      <th>CRSArrTime</th>\n",
       "      <th>UniqueCarrier</th>\n",
       "      <th>FlightNum</th>\n",
       "      <th>TailNum</th>\n",
       "      <th>ActualElapsedTime</th>\n",
       "      <th>CRSElapsedTime</th>\n",
       "      <th>ArrDelay</th>\n",
       "      <th>DepDelay</th>\n",
       "      <th>Origin</th>\n",
       "      <th>Dest</th>\n",
       "      <th>Distance</th>\n",
       "      <th>Cancelled</th>\n",
       "      <th>Total retraso</th>\n",
       "      <th>fecha</th>\n",
       "    </tr>\n",
       "  </thead>\n",
       "  <tbody>\n",
       "    <tr>\n",
       "      <th>0</th>\n",
       "      <td>1</td>\n",
       "      <td>1900-01-01 15:40:00</td>\n",
       "      <td>1701</td>\n",
       "      <td>US</td>\n",
       "      <td>33</td>\n",
       "      <td>NaN</td>\n",
       "      <td>86.0</td>\n",
       "      <td>81.0</td>\n",
       "      <td>46.0</td>\n",
       "      <td>41.0</td>\n",
       "      <td>EWR</td>\n",
       "      <td>PIT</td>\n",
       "      <td>319.0</td>\n",
       "      <td>False</td>\n",
       "      <td>87.0</td>\n",
       "      <td>1990-01-01</td>\n",
       "    </tr>\n",
       "    <tr>\n",
       "      <th>1</th>\n",
       "      <td>2</td>\n",
       "      <td>1900-01-01 15:40:00</td>\n",
       "      <td>1701</td>\n",
       "      <td>US</td>\n",
       "      <td>33</td>\n",
       "      <td>NaN</td>\n",
       "      <td>73.0</td>\n",
       "      <td>81.0</td>\n",
       "      <td>-1.0</td>\n",
       "      <td>7.0</td>\n",
       "      <td>EWR</td>\n",
       "      <td>PIT</td>\n",
       "      <td>319.0</td>\n",
       "      <td>False</td>\n",
       "      <td>6.0</td>\n",
       "      <td>1990-01-02</td>\n",
       "    </tr>\n",
       "    <tr>\n",
       "      <th>2</th>\n",
       "      <td>3</td>\n",
       "      <td>1900-01-01 15:40:00</td>\n",
       "      <td>1701</td>\n",
       "      <td>US</td>\n",
       "      <td>33</td>\n",
       "      <td>NaN</td>\n",
       "      <td>84.0</td>\n",
       "      <td>81.0</td>\n",
       "      <td>9.0</td>\n",
       "      <td>6.0</td>\n",
       "      <td>EWR</td>\n",
       "      <td>PIT</td>\n",
       "      <td>319.0</td>\n",
       "      <td>False</td>\n",
       "      <td>15.0</td>\n",
       "      <td>1990-01-03</td>\n",
       "    </tr>\n",
       "    <tr>\n",
       "      <th>3</th>\n",
       "      <td>4</td>\n",
       "      <td>1900-01-01 15:40:00</td>\n",
       "      <td>1701</td>\n",
       "      <td>US</td>\n",
       "      <td>33</td>\n",
       "      <td>NaN</td>\n",
       "      <td>88.0</td>\n",
       "      <td>81.0</td>\n",
       "      <td>9.0</td>\n",
       "      <td>2.0</td>\n",
       "      <td>EWR</td>\n",
       "      <td>PIT</td>\n",
       "      <td>319.0</td>\n",
       "      <td>False</td>\n",
       "      <td>11.0</td>\n",
       "      <td>1990-01-04</td>\n",
       "    </tr>\n",
       "    <tr>\n",
       "      <th>4</th>\n",
       "      <td>5</td>\n",
       "      <td>1900-01-01 15:40:00</td>\n",
       "      <td>1701</td>\n",
       "      <td>US</td>\n",
       "      <td>33</td>\n",
       "      <td>NaN</td>\n",
       "      <td>77.0</td>\n",
       "      <td>81.0</td>\n",
       "      <td>5.0</td>\n",
       "      <td>9.0</td>\n",
       "      <td>EWR</td>\n",
       "      <td>PIT</td>\n",
       "      <td>319.0</td>\n",
       "      <td>False</td>\n",
       "      <td>14.0</td>\n",
       "      <td>1990-01-05</td>\n",
       "    </tr>\n",
       "  </tbody>\n",
       "</table>\n",
       "</div>"
      ],
      "text/plain": [
       "   DayOfWeek          CRSDepTime  CRSArrTime UniqueCarrier  FlightNum TailNum  \\\n",
       "0          1 1900-01-01 15:40:00        1701            US         33     NaN   \n",
       "1          2 1900-01-01 15:40:00        1701            US         33     NaN   \n",
       "2          3 1900-01-01 15:40:00        1701            US         33     NaN   \n",
       "3          4 1900-01-01 15:40:00        1701            US         33     NaN   \n",
       "4          5 1900-01-01 15:40:00        1701            US         33     NaN   \n",
       "\n",
       "   ActualElapsedTime  CRSElapsedTime  ArrDelay  DepDelay Origin Dest  \\\n",
       "0               86.0            81.0      46.0      41.0    EWR  PIT   \n",
       "1               73.0            81.0      -1.0       7.0    EWR  PIT   \n",
       "2               84.0            81.0       9.0       6.0    EWR  PIT   \n",
       "3               88.0            81.0       9.0       2.0    EWR  PIT   \n",
       "4               77.0            81.0       5.0       9.0    EWR  PIT   \n",
       "\n",
       "   Distance  Cancelled  Total retraso      fecha  \n",
       "0     319.0      False           87.0 1990-01-01  \n",
       "1     319.0      False            6.0 1990-01-02  \n",
       "2     319.0      False           15.0 1990-01-03  \n",
       "3     319.0      False           11.0 1990-01-04  \n",
       "4     319.0      False           14.0 1990-01-05  "
      ]
     },
     "execution_count": 115,
     "metadata": {},
     "output_type": "execute_result"
    }
   ],
   "source": [
    "ddf.head()"
   ]
  },
  {
   "cell_type": "code",
   "execution_count": null,
   "metadata": {},
   "outputs": [
    {
     "data": {
      "text/plain": [
       "DayOfWeek                     int64\n",
       "CRSDepTime           datetime64[ns]\n",
       "CRSArrTime                    int64\n",
       "UniqueCarrier                object\n",
       "FlightNum                     int64\n",
       "TailNum                      object\n",
       "ActualElapsedTime           float64\n",
       "CRSElapsedTime              float64\n",
       "ArrDelay                    float64\n",
       "DepDelay                    float64\n",
       "Origin                       object\n",
       "Dest                         object\n",
       "Distance                    float64\n",
       "Cancelled                      bool\n",
       "Total retraso               float64\n",
       "fecha                datetime64[ns]\n",
       "dtype: object"
      ]
     },
     "execution_count": 119,
     "metadata": {},
     "output_type": "execute_result"
    }
   ],
   "source": [
    "df.dtypes"
   ]
  },
  {
   "cell_type": "markdown",
   "metadata": {},
   "source": [
    "## Diferencias comunes"
   ]
  },
  {
   "cell_type": "code",
   "execution_count": 5,
   "metadata": {},
   "outputs": [
    {
     "name": "stderr",
     "output_type": "stream",
     "text": [
      "/Users/andres/Documents/ITAM/Quinto Semestre/Fuentes de datos/proyecto_dask/.venv/lib/python3.12/site-packages/dask_expr/_collection.py:6002: UserWarning: dask_expr does not support the DataFrameIOFunction protocol for column projection. To enable column projection, please ensure that the signature of `func` includes a `columns=` keyword argument instead.\n",
      "  warnings.warn(\n"
     ]
    }
   ],
   "source": [
    "import dask\n",
    "ddf  = dask.datasets.timeseries()\n",
    "pdf = ddf.compute()"
   ]
  },
  {
   "cell_type": "code",
   "execution_count": 11,
   "metadata": {},
   "outputs": [
    {
     "name": "stdout",
     "output_type": "stream",
     "text": [
      "Pandas shape: (2592000, 4)\n",
      "---------------------------\n",
      "Dask lazy shape: (<dask_expr.expr.Scalar: expr=(Drop(frame=ResetIndex(frame=Assign(frame=RenameFrame(frame=RenameFrame(frame=RenameFrame(frame=ArrowStringConversion(frame=FromMap(d1cdb03)), columns={'id': 'ID'}), columns={'id': 'ID'}), columns={'id': 'ID'}))), columns=['timestamp'])).size() // 4, dtype=int64>, 4)\n"
     ]
    }
   ],
   "source": [
    "print(f'Pandas shape: {pdf.shape}')\n",
    "print('---------------------------')\n",
    "print(f'Dask lazy shape: {ddf.shape}')"
   ]
  },
  {
   "cell_type": "markdown",
   "metadata": {},
   "source": [
    "En Dask, consideran que la buena práctica no es utilizar `inplace` para modificar el nombre de las columnas (y en otras situaciones) por lo que, para renombrar una columna se utiliza `rename`."
   ]
  },
  {
   "cell_type": "code",
   "execution_count": 8,
   "metadata": {},
   "outputs": [
    {
     "name": "stdout",
     "output_type": "stream",
     "text": [
      "Index(['name', 'ID', 'x', 'y'], dtype='object')\n"
     ]
    },
    {
     "data": {
      "text/plain": [
       "Index(['name', 'ID', 'x', 'y'], dtype='object')"
      ]
     },
     "execution_count": 8,
     "metadata": {},
     "output_type": "execute_result"
    }
   ],
   "source": [
    "print(ddf.columns)\n",
    "ddf = ddf.rename(columns={'id':'ID'})\n",
    "ddf.columns"
   ]
  },
  {
   "cell_type": "markdown",
   "metadata": {},
   "source": [
    "También, el `loc` que es tan usado en pandas, se sustiuye en Dask, en muchos casos, por el `mask/where`."
   ]
  },
  {
   "cell_type": "code",
   "execution_count": 9,
   "metadata": {},
   "outputs": [
    {
     "data": {
      "text/html": [
       "<div>\n",
       "<style scoped>\n",
       "    .dataframe tbody tr th:only-of-type {\n",
       "        vertical-align: middle;\n",
       "    }\n",
       "\n",
       "    .dataframe tbody tr th {\n",
       "        vertical-align: top;\n",
       "    }\n",
       "\n",
       "    .dataframe thead th {\n",
       "        text-align: right;\n",
       "    }\n",
       "</style>\n",
       "<table border=\"1\" class=\"dataframe\">\n",
       "  <thead>\n",
       "    <tr style=\"text-align: right;\">\n",
       "      <th></th>\n",
       "      <th>name</th>\n",
       "      <th>ID</th>\n",
       "      <th>x</th>\n",
       "      <th>y</th>\n",
       "    </tr>\n",
       "    <tr>\n",
       "      <th>timestamp</th>\n",
       "      <th></th>\n",
       "      <th></th>\n",
       "      <th></th>\n",
       "      <th></th>\n",
       "    </tr>\n",
       "  </thead>\n",
       "  <tbody>\n",
       "    <tr>\n",
       "      <th>2000-01-01 00:00:00</th>\n",
       "      <td>Ingrid</td>\n",
       "      <td>923</td>\n",
       "      <td>0.812028</td>\n",
       "      <td>-0.372474</td>\n",
       "    </tr>\n",
       "    <tr>\n",
       "      <th>2000-01-01 00:00:01</th>\n",
       "      <td>Frank</td>\n",
       "      <td>1010</td>\n",
       "      <td>-0.516809</td>\n",
       "      <td>0.136673</td>\n",
       "    </tr>\n",
       "  </tbody>\n",
       "</table>\n",
       "</div>"
      ],
      "text/plain": [
       "                       name    ID         x         y\n",
       "timestamp                                            \n",
       "2000-01-01 00:00:00  Ingrid   923  0.812028 -0.372474\n",
       "2000-01-01 00:00:01   Frank  1010 -0.516809  0.136673"
      ]
     },
     "execution_count": 9,
     "metadata": {},
     "output_type": "execute_result"
    }
   ],
   "source": [
    "cond_ddf = (ddf['x']>0.5) & (ddf['x']<0.8)\n",
    "ddf['y'] = ddf['y'].mask(cond=cond_ddf, other=ddf['y']* 100)\n",
    "ddf.head(2)"
   ]
  },
  {
   "cell_type": "markdown",
   "metadata": {},
   "source": [
    "De igual manera, para \"droppear\" un índice, en lugar de utilizar `drop=True`, se considera que es buena práctica indicar cuál es el índice que se está tumbando."
   ]
  },
  {
   "cell_type": "code",
   "execution_count": 10,
   "metadata": {},
   "outputs": [
    {
     "data": {
      "text/html": [
       "<div>\n",
       "<style scoped>\n",
       "    .dataframe tbody tr th:only-of-type {\n",
       "        vertical-align: middle;\n",
       "    }\n",
       "\n",
       "    .dataframe tbody tr th {\n",
       "        vertical-align: top;\n",
       "    }\n",
       "\n",
       "    .dataframe thead th {\n",
       "        text-align: right;\n",
       "    }\n",
       "</style>\n",
       "<table border=\"1\" class=\"dataframe\">\n",
       "  <thead>\n",
       "    <tr style=\"text-align: right;\">\n",
       "      <th></th>\n",
       "      <th>name</th>\n",
       "      <th>ID</th>\n",
       "      <th>x</th>\n",
       "      <th>y</th>\n",
       "    </tr>\n",
       "  </thead>\n",
       "  <tbody>\n",
       "    <tr>\n",
       "      <th>0</th>\n",
       "      <td>Ingrid</td>\n",
       "      <td>923</td>\n",
       "      <td>0.812028</td>\n",
       "      <td>-0.372474</td>\n",
       "    </tr>\n",
       "    <tr>\n",
       "      <th>1</th>\n",
       "      <td>Frank</td>\n",
       "      <td>1010</td>\n",
       "      <td>-0.516809</td>\n",
       "      <td>0.136673</td>\n",
       "    </tr>\n",
       "  </tbody>\n",
       "</table>\n",
       "</div>"
      ],
      "text/plain": [
       "     name    ID         x         y\n",
       "0  Ingrid   923  0.812028 -0.372474\n",
       "1   Frank  1010 -0.516809  0.136673"
      ]
     },
     "execution_count": 10,
     "metadata": {},
     "output_type": "execute_result"
    }
   ],
   "source": [
    "ddf = ddf.reset_index()\n",
    "ddf = ddf.drop(labels=['timestamp'], axis=1 )\n",
    "ddf.head(2)"
   ]
  },
  {
   "cell_type": "markdown",
   "metadata": {},
   "source": [
    "#### Caso particular"
   ]
  },
  {
   "cell_type": "code",
   "execution_count": 12,
   "metadata": {},
   "outputs": [
    {
     "data": {
      "text/html": [
       "<div><strong>Dask DataFrame Structure:</strong></div>\n",
       "<table border=\"1\" class=\"dataframe\">\n",
       "  <thead>\n",
       "    <tr style=\"text-align: right;\">\n",
       "      <th></th>\n",
       "      <th>name</th>\n",
       "      <th>id</th>\n",
       "      <th>x</th>\n",
       "      <th>y</th>\n",
       "    </tr>\n",
       "    <tr>\n",
       "      <th>npartitions=10</th>\n",
       "      <th></th>\n",
       "      <th></th>\n",
       "      <th></th>\n",
       "      <th></th>\n",
       "    </tr>\n",
       "  </thead>\n",
       "  <tbody>\n",
       "    <tr>\n",
       "      <th>2000-01-01 00:00:00</th>\n",
       "      <td>string</td>\n",
       "      <td>int64</td>\n",
       "      <td>float64</td>\n",
       "      <td>float64</td>\n",
       "    </tr>\n",
       "    <tr>\n",
       "      <th>2000-01-04 00:00:00</th>\n",
       "      <td>...</td>\n",
       "      <td>...</td>\n",
       "      <td>...</td>\n",
       "      <td>...</td>\n",
       "    </tr>\n",
       "    <tr>\n",
       "      <th>...</th>\n",
       "      <td>...</td>\n",
       "      <td>...</td>\n",
       "      <td>...</td>\n",
       "      <td>...</td>\n",
       "    </tr>\n",
       "    <tr>\n",
       "      <th>2000-01-28 00:00:00</th>\n",
       "      <td>...</td>\n",
       "      <td>...</td>\n",
       "      <td>...</td>\n",
       "      <td>...</td>\n",
       "    </tr>\n",
       "    <tr>\n",
       "      <th>2000-01-30 23:59:59</th>\n",
       "      <td>...</td>\n",
       "      <td>...</td>\n",
       "      <td>...</td>\n",
       "      <td>...</td>\n",
       "    </tr>\n",
       "  </tbody>\n",
       "</table>\n",
       "<div>Dask Name: frompandas, 1 expression</div>"
      ],
      "text/plain": [
       "Dask DataFrame Structure:\n",
       "                       name     id        x        y\n",
       "npartitions=10                                      \n",
       "2000-01-01 00:00:00  string  int64  float64  float64\n",
       "2000-01-04 00:00:00     ...    ...      ...      ...\n",
       "...                     ...    ...      ...      ...\n",
       "2000-01-28 00:00:00     ...    ...      ...      ...\n",
       "2000-01-30 23:59:59     ...    ...      ...      ...\n",
       "Dask Name: frompandas, 1 expression\n",
       "Expr=df"
      ]
     },
     "execution_count": 12,
     "metadata": {},
     "output_type": "execute_result"
    }
   ],
   "source": [
    "ddf2 = dask.dataframe.from_pandas(pdf, npartitions=10)\n",
    "ddf2"
   ]
  },
  {
   "cell_type": "markdown",
   "metadata": {},
   "source": [
    "Notar que al crear un Dataframe de Dask le pasamos el número de particiones. Esto ayudará a Dask a saber como \"trozar\" el Dataframe de pandas y poder paralelizar el cómputo, **cada partición es un Dataframe distinto**. "
   ]
  },
  {
   "cell_type": "code",
   "execution_count": 13,
   "metadata": {},
   "outputs": [
    {
     "data": {
      "text/plain": [
       "timestamp    2000-01-01 00:00:00\n",
       "name                      Ingrid\n",
       "id                           923\n",
       "x                       0.812028\n",
       "y                      -0.372474\n",
       "Name: 0, dtype: object"
      ]
     },
     "execution_count": 13,
     "metadata": {},
     "output_type": "execute_result"
    }
   ],
   "source": [
    "pdf2 = pdf.reset_index()\n",
    "pdf2.loc[0]"
   ]
  },
  {
   "cell_type": "code",
   "execution_count": 14,
   "metadata": {},
   "outputs": [
    {
     "data": {
      "text/html": [
       "<div>\n",
       "<style scoped>\n",
       "    .dataframe tbody tr th:only-of-type {\n",
       "        vertical-align: middle;\n",
       "    }\n",
       "\n",
       "    .dataframe tbody tr th {\n",
       "        vertical-align: top;\n",
       "    }\n",
       "\n",
       "    .dataframe thead th {\n",
       "        text-align: right;\n",
       "    }\n",
       "</style>\n",
       "<table border=\"1\" class=\"dataframe\">\n",
       "  <thead>\n",
       "    <tr style=\"text-align: right;\">\n",
       "      <th></th>\n",
       "      <th>timestamp</th>\n",
       "      <th>name</th>\n",
       "      <th>id</th>\n",
       "      <th>x</th>\n",
       "      <th>y</th>\n",
       "    </tr>\n",
       "  </thead>\n",
       "  <tbody>\n",
       "    <tr>\n",
       "      <th>0</th>\n",
       "      <td>2000-01-01</td>\n",
       "      <td>Ingrid</td>\n",
       "      <td>923</td>\n",
       "      <td>0.812028</td>\n",
       "      <td>-0.372474</td>\n",
       "    </tr>\n",
       "    <tr>\n",
       "      <th>0</th>\n",
       "      <td>2000-01-04</td>\n",
       "      <td>Hannah</td>\n",
       "      <td>1069</td>\n",
       "      <td>-0.176747</td>\n",
       "      <td>0.950680</td>\n",
       "    </tr>\n",
       "    <tr>\n",
       "      <th>0</th>\n",
       "      <td>2000-01-07</td>\n",
       "      <td>Ingrid</td>\n",
       "      <td>1039</td>\n",
       "      <td>0.841252</td>\n",
       "      <td>0.582388</td>\n",
       "    </tr>\n",
       "    <tr>\n",
       "      <th>0</th>\n",
       "      <td>2000-01-10</td>\n",
       "      <td>Ray</td>\n",
       "      <td>996</td>\n",
       "      <td>0.383479</td>\n",
       "      <td>-0.820516</td>\n",
       "    </tr>\n",
       "    <tr>\n",
       "      <th>0</th>\n",
       "      <td>2000-01-13</td>\n",
       "      <td>Wendy</td>\n",
       "      <td>968</td>\n",
       "      <td>0.096200</td>\n",
       "      <td>0.931216</td>\n",
       "    </tr>\n",
       "    <tr>\n",
       "      <th>0</th>\n",
       "      <td>2000-01-16</td>\n",
       "      <td>Patricia</td>\n",
       "      <td>991</td>\n",
       "      <td>-0.538522</td>\n",
       "      <td>0.369087</td>\n",
       "    </tr>\n",
       "    <tr>\n",
       "      <th>0</th>\n",
       "      <td>2000-01-19</td>\n",
       "      <td>Yvonne</td>\n",
       "      <td>1009</td>\n",
       "      <td>-0.441163</td>\n",
       "      <td>0.878738</td>\n",
       "    </tr>\n",
       "    <tr>\n",
       "      <th>0</th>\n",
       "      <td>2000-01-22</td>\n",
       "      <td>Tim</td>\n",
       "      <td>952</td>\n",
       "      <td>0.873414</td>\n",
       "      <td>0.664519</td>\n",
       "    </tr>\n",
       "    <tr>\n",
       "      <th>0</th>\n",
       "      <td>2000-01-25</td>\n",
       "      <td>Wendy</td>\n",
       "      <td>1007</td>\n",
       "      <td>-0.371586</td>\n",
       "      <td>0.568942</td>\n",
       "    </tr>\n",
       "    <tr>\n",
       "      <th>0</th>\n",
       "      <td>2000-01-28</td>\n",
       "      <td>Laura</td>\n",
       "      <td>1044</td>\n",
       "      <td>-0.391215</td>\n",
       "      <td>-0.424320</td>\n",
       "    </tr>\n",
       "  </tbody>\n",
       "</table>\n",
       "</div>"
      ],
      "text/plain": [
       "   timestamp      name    id         x         y\n",
       "0 2000-01-01    Ingrid   923  0.812028 -0.372474\n",
       "0 2000-01-04    Hannah  1069 -0.176747  0.950680\n",
       "0 2000-01-07    Ingrid  1039  0.841252  0.582388\n",
       "0 2000-01-10       Ray   996  0.383479 -0.820516\n",
       "0 2000-01-13     Wendy   968  0.096200  0.931216\n",
       "0 2000-01-16  Patricia   991 -0.538522  0.369087\n",
       "0 2000-01-19    Yvonne  1009 -0.441163  0.878738\n",
       "0 2000-01-22       Tim   952  0.873414  0.664519\n",
       "0 2000-01-25     Wendy  1007 -0.371586  0.568942\n",
       "0 2000-01-28     Laura  1044 -0.391215 -0.424320"
      ]
     },
     "execution_count": 14,
     "metadata": {},
     "output_type": "execute_result"
    }
   ],
   "source": [
    "ddf2 = ddf2.reset_index()\n",
    "ddf2.loc[0].compute()"
   ]
  }
 ],
 "metadata": {
  "kernelspec": {
   "display_name": ".venv",
   "language": "python",
   "name": "python3"
  },
  "language_info": {
   "codemirror_mode": {
    "name": "ipython",
    "version": 3
   },
   "file_extension": ".py",
   "mimetype": "text/x-python",
   "name": "python",
   "nbconvert_exporter": "python",
   "pygments_lexer": "ipython3",
   "version": "3.12.7"
  }
 },
 "nbformat": 4,
 "nbformat_minor": 2
}
