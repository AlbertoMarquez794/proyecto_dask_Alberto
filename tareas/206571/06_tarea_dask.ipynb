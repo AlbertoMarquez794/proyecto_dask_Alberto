{
 "cells": [
  {
   "cell_type": "markdown",
   "metadata": {},
   "source": [
    "# Tarea Dask"
   ]
  },
  {
   "cell_type": "markdown",
   "metadata": {
    "vscode": {
     "languageId": "plaintext"
    }
   },
   "source": [
    "## Instrucciones generales\n",
    "- Esta tarea debe realizarse de manera individual\n",
    "- Este notebook (resuelto) debe ser subido al github del proyecto en la carpeta de tareas (creen una carpeta dentro de esa carpeta y agreguen su notebook reuelto)\n",
    "- Fecha límite: Lunes 25 de noviembre de 2024 a las 11:59 p.m\n",
    "- Deben realizar las cuatro secciones\n",
    "- Puedes agregar tantas celdas de código y explicaciones como veas necesario, solo manten la estructura general"
   ]
  },
  {
   "cell_type": "markdown",
   "metadata": {},
   "source": [
    "## Sección 0 Creación y Configuración del cliente de Dask\n",
    "Ejercicio 0: Configuración del cliente\n",
    "1. Crea un cliente local de Dask que inicie un clúster en tu máquina.\n",
    "2. Configura el cliente para que tenga las siguientes características (elige un par de las opciones de trabajadores e hilos):\n",
    "    - Número de trabajadores: 2 / 4\n",
    "    - Memoria máxima por trabajador: 1GB\n",
    "    - Threads por trabajador: 4 / 2\n",
    "3. Verifica que el cliente esté funcionando correctamente mostrando:\n",
    "    - Resumen de los trabajadores activos.\n",
    "    - Dashboard disponible (URL del panel de control de Dask).\n",
    "    * Tip: Checa los parámetros del cliente que creeaste.\n",
    "\n",
    "*Nota*: Puedes hacer que corra en el puerto que desees."
   ]
  },
  {
   "cell_type": "code",
   "execution_count": null,
   "metadata": {},
   "outputs": [],
   "source": [
    "# Tu código va aquí\n",
    "from dask.distributed import Client\n",
    "\n",
    "client = Client(\n",
    "    n_workers = 2, \n",
    "    threads_per_worker=4,\n",
    "    memory_limit='1GB',\n",
    ")"
   ]
  },
  {
   "cell_type": "markdown",
   "metadata": {
    "vscode": {
     "languageId": "plaintext"
    }
   },
   "source": [
    "## Sección 1 Delayed\n",
    "Ejercicio 1: Procesamiento de datos \n",
    "\n",
    "1. Genera datos simulados (por ejemplo, ventas diarias) para 10 sucursales durante 365 días.\n",
    "    - Cada sucursal debe tener datos generados aleatoriamente para \"Ingresos\" y \"Costos\".\n",
    "    - Utiliza una función para generar los datos simulados.\n",
    "2. Usa Dask Delayed para calcular:\n",
    "    - Las ganancias diarias por sucursal.\n",
    "    - La sucursal con mayor ganancia promedio.\n",
    "3. Genera un grafo de tareas que visualice estas operaciones y explica por qué elegiste paralelizar de esa forma, genera una visualización del grafo."
   ]
  },
  {
   "cell_type": "code",
   "execution_count": null,
   "metadata": {},
   "outputs": [],
   "source": [
    "# Tu código va aquí\n",
    "import dask\n",
    "import numpy as np\n",
    "import pandas as pd\n",
    "\n",
    "def generar_datos(sucursal, num_registros=365):\n",
    "    np.random.seed(sucursal)  \n",
    "    data = {\n",
    "        \"sucursal\": [sucursal] * num_registros,\n",
    "        \"fecha\": pd.date_range(start='2023-01-01', periods=num_registros, freq='D'),\n",
    "        \"Ingresos\": np.random.randint(1000, 10000, num_registros), \n",
    "        \"Costos\": np.random.randint(500, 5000, num_registros)\n",
    "    }\n",
    "    return pd.DataFrame(data)\n",
    "\n",
    "def calcular_ganancias(df):\n",
    "    df['Ganancias'] = df[\"Ingresos\"] - df[\"Costos\"]\n",
    "    return df\n",
    "\n",
    "@dask.delayed\n",
    "def procesar_sucursal(sucursal):\n",
    "    datos = generar_datos(sucursal)\n",
    "    datos_con_ganancias = calcular_ganancias(datos)\n",
    "    ganancia_promedio = datos_con_ganancias['Ganancias'].mean()\n",
    "    return {\n",
    "        'sucursal': sucursal,\n",
    "        'datos': datos_con_ganancias,\n",
    "        'ganancia_promedio': ganancia_promedio\n",
    "    }\n",
    "\n",
    "@dask.delayed\n",
    "def encontrar_mejor_sucursal(resultados):\n",
    "    ganancias_promedio = {res['sucursal']: res['ganancia_promedio'] for res in resultados}\n",
    "    mejor_sucursal = max(ganancias_promedio.items(), key=lambda x: x[1])\n",
    "    return mejor_sucursal\n",
    "\n",
    "\n",
    "tareas_sucursales = [procesar_sucursal(sucursal) for sucursal in range(10)]\n",
    "mejor_sucursal = encontrar_mejor_sucursal(tareas_sucursales)\n",
    "\n",
    "grafo = mejor_sucursal.visualize(filename='grafo_ventas.png')\n",
    "resultados = dask.compute(tareas_sucursales, mejor_sucursal)\n",
    "datos_sucursales, (mejor_sucursal_id, ganancia_promedio) = resultados\n",
    "\n",
    "print(\"\\nResumen de ganancias por sucursal:\")\n",
    "for resultado in datos_sucursales:\n",
    "    sucursal = resultado['sucursal']\n",
    "    ganancia_prom = resultado['ganancia_promedio']\n",
    "    print(f\"Sucursal {sucursal}: ${ganancia_prom:.2f}\")\n",
    "\n",
    "print(f\"Sucursal con mayor ganancia promedio: {mejor_sucursal_id}\")\n",
    "print(f\"Ganancia promedio: ${ganancia_promedio:.2f}\")\n",
    "\n",
    "\n",
    "# Paralelizado por: \n",
    "    # independencia de los datos, sucursal\n",
    "    # sin dependencias entre el calculo de las ganancias de cada sucursal"
   ]
  },
  {
   "cell_type": "markdown",
   "metadata": {},
   "source": [
    "## Sección 2 Dask Dataframes\n",
    "Ejercicio 2: Limpieza y análisis de datos reales\n",
    "\n",
    "1. Descarga un conjunto de datos masivo (puedes usar la colección de *nycflights* que se encuentra en `data/nycflights/`).\n",
    "2. Carga los datos en un Dask DataFrame. \n",
    "    - Elige adecuadamente el número de particiones (que quepan en memoria de los `workers`)\n",
    "3. Realiza las siguientes tareas:\n",
    "    - Limpia los valores faltantes en las columnas `ArrDelay` y `DepDelay`, rellenándolos con la mediana de cada columna.\n",
    "    - Calcula el retraso promedio (`DepDelay`) por mes y aerolínea.\n",
    "    - Encuentra el aeropuerto de origen con más vuelos retrasados.\n",
    "\n",
    "*Nota*: **Evita** convertir el DataFrame a pandas e **intenta** realizar `.compute()` solo cuando sea necesario."
   ]
  },
  {
   "cell_type": "code",
   "execution_count": null,
   "metadata": {},
   "outputs": [],
   "source": [
    "# Tu código va aquí\n",
    "import dask.dataframe as dd\n",
    "\n",
    "df = dd.read_csv('notebooks/data/nycflights/*.csv', npartitions=4)\n",
    "\n",
    "medianas = df[['ArrDelay', 'DepDelay']].quantile(0.5).compute()\n",
    "df['ArrDelay'] = df['ArrDelay'].fillna(medianas['ArrDelay'])\n",
    "df['DepDelay'] = df['DepDelay'].fillna(medianas['DepDelay'])\n",
    "\n",
    "retrasos_mes_aerolinea = df.groupby(['Month', 'UniqueCarrier'])['DepDelay'].mean()\n",
    "\n",
    "vuelos_retrasados = df[df['DepDelay'] > 0].groupby('Origin').size()\n",
    "aeropuerto_mas_retrasado = vuelos_retrasados.nlargest(1)"
   ]
  },
  {
   "cell_type": "markdown",
   "metadata": {},
   "source": [
    "## Sección 3 Dask Arrays\n",
    "\n",
    "Ejercicio 3: Procesamiento numérico avanzado\n",
    "\n",
    "1. Crea un arreglo de 10,000 x 10,000 con valores aleatorios usando Dask Array, utiliza un tamaño de chunks adecuado, ¿es mejor que sean cuadrados?.\n",
    "2. Realiza las siguientes operaciones:\n",
    "    - Calcula la suma de cada fila.\n",
    "    - Encuentra la fila con el valor máximo promedio.\n",
    "    - Multiplica todo el arreglo por un factor escalar (por ejemplo, 2.5).\n",
    "3. Divide el arreglo nuevamente en 100 bloques y compara la rapidez."
   ]
  },
  {
   "cell_type": "code",
   "execution_count": null,
   "metadata": {},
   "outputs": [],
   "source": [
    "# Tu código va aquí\n",
    "import time\n",
    "import dask.array as da\n",
    "\n",
    "def procesar_array(shape, chunks, descripcion):\n",
    "   start_time = time.time()\n",
    "\n",
    "   array = da.random.random(shape, chunks=chunks)\n",
    "\n",
    "   suma_de_filas = array.sum(axis=1)\n",
    "   promedios_filas = array.mean(axis=1)\n",
    "   indice_max = promedios_filas.argmax()\n",
    "   array_multiplicado = array * 2.5\n",
    "\n",
    "   resultados = {\n",
    "      'suma_filas': suma_de_filas.compute(),\n",
    "      'indice_max': indice_max.compute(),\n",
    "      'muestra_multiplicada': array_multiplicado[0:2, 0:2].compute()\n",
    "   }\n",
    "   \n",
    "   tiempo_total = time.time() - start_time\n",
    "\n",
    "   return tiempo_total, resultados\n",
    "\n",
    "shape = (10000, 10000)\n",
    "\n",
    "# chunks cuadrados\n",
    "tiempo_cuadrados, resultados_cuadrados = procesar_array(\n",
    "   shape, \n",
    "   chunks=(1000, 1000), \n",
    "   descripcion=\"chunks cuadrados\"\n",
    ")\n",
    "\n",
    "# 100 bloques\n",
    "tiempo_cien_bloques, resultados_cien = procesar_array(\n",
    "   shape, \n",
    "   chunks=(100, 100),\n",
    "   descripcion=\"100 bloques\"\n",
    ")\n",
    "\n",
    "print(\"\\nComparación de tiempos:\")\n",
    "print(f\"Chunks cuadrados (1000x1000): {tiempo_cuadrados:.2f} segundos\")\n",
    "print(f\"100 bloques (100x100): {tiempo_cien_bloques:.2f} segundos\")\n",
    "print(f\"\\nDiferencia de tiempo: {abs(tiempo_cuadrados - tiempo_cien_bloques):.2f} segundos\")\n",
    "print(f\"La configuración {'de chunks cuadrados' if tiempo_cuadrados < tiempo_cien_bloques else 'de 100 bloques'} fue más rápida\")"
   ]
  },
  {
   "cell_type": "markdown",
   "metadata": {},
   "source": [
    "## Sección 4 Futures\n",
    "Ejercicio 4: Distribución de tareas dinámicas\n",
    "\n",
    "1. Implementa una función que calcule la raíz cuadrada de una lista de 100,000 números enteros generados aleatoriamente.\n",
    "2. Divide la lista en 10 partes iguales y usa Dask Futures para calcular la raíz cuadrada de cada parte en paralelo.\n",
    "3. Recolecta los resultados y calcula:\n",
    "    - El promedio de todos los números procesados.\n",
    "    - El tiempo total de ejecución (incluyendo envío y recolección de tareas).\n",
    "4. Observa como se distribuye la carga en el cliente.\n",
    "\n",
    "*Nota*: en los ejercicios ya vimos como determinar si ya se cumplío una tarea."
   ]
  },
  {
   "cell_type": "code",
   "execution_count": null,
   "metadata": {},
   "outputs": [],
   "source": [
    "# Tu código va aquí\n",
    "import random \n",
    "from dask.distributed import as_completed\n",
    "\n",
    "def calcular_raiz(n):\n",
    "    return n ** 0.5\n",
    "\n",
    "numeros = [random.randint(1, 1000) for _ in range(100000)]\n",
    "futuros = [client.submit(calcular_raiz, num) for num in numeros]\n",
    "\n",
    "resultados = []\n",
    "for futuro in as_completed(futuros):\n",
    "    resultados.append(futuro.result())\n",
    "\n",
    "promedio = sum(resultados) / len(resultados)\n",
    "\n",
    "# 4. Mostrar resultados\n",
    "print(\"Primeros 10 resultados:\", resultados[:10])\n",
    "print(f\"Total de tareas completadas: {len(resultados)}\")\n",
    "print(f\"Promedio de las raíces cuadradas: {promedio:.2f}\")"
   ]
  }
 ],
 "metadata": {
  "kernelspec": {
   "display_name": "Python 3",
   "language": "python",
   "name": "python3"
  },
  "language_info": {
   "codemirror_mode": {
    "name": "ipython",
    "version": 3
   },
   "file_extension": ".py",
   "mimetype": "text/x-python",
   "name": "python",
   "nbconvert_exporter": "python",
   "pygments_lexer": "ipython3",
   "version": "3.9.6"
  }
 },
 "nbformat": 4,
 "nbformat_minor": 2
}
